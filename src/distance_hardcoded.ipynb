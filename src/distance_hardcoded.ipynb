{
 "cells": [
  {
   "cell_type": "markdown",
   "id": "0c3026d4",
   "metadata": {},
   "source": [
    "#### Código Python para cálculo de distância entre vetores (hard coded)"
   ]
  },
  {
   "cell_type": "code",
   "execution_count": 1,
   "id": "aa2ec6e2",
   "metadata": {},
   "outputs": [],
   "source": [
    "def vector_subtract(v, w):\n",
    "    return [v_i - w_i\n",
    "            for v_i, w_i in zip(v,w)]"
   ]
  },
  {
   "cell_type": "code",
   "execution_count": 2,
   "id": "01c6eeec",
   "metadata": {},
   "outputs": [],
   "source": [
    "# produto escalar de vetores (dot product) é a soma de seus produtos componente a componente\n",
    "def dot(v, w):\n",
    "    return sum(v_i * w_i\n",
    "               for v_i, w_i in zip(v,w))"
   ]
  },
  {
   "cell_type": "code",
   "execution_count": 3,
   "id": "10271c80",
   "metadata": {},
   "outputs": [],
   "source": [
    "def sum_of_squares(v):\n",
    "    return dot(v,v)"
   ]
  },
  {
   "cell_type": "code",
   "execution_count": 11,
   "id": "182711f2",
   "metadata": {},
   "outputs": [],
   "source": [
    "def squared_distance(v, w):\n",
    "    return sum_of_squares(vector_subtract(v,w))"
   ]
  },
  {
   "cell_type": "code",
   "execution_count": 9,
   "id": "5aee67b9",
   "metadata": {},
   "outputs": [],
   "source": [
    "import math\n",
    "def euclidian_distance(v, w):\n",
    "    return math.sqrt(squared_distance(v,w))"
   ]
  },
  {
   "cell_type": "code",
   "execution_count": 6,
   "id": "1dfc1331",
   "metadata": {},
   "outputs": [],
   "source": [
    "v = [3,6,9] #lista\n",
    "w = [1,0,1]"
   ]
  },
  {
   "cell_type": "code",
   "execution_count": 20,
   "id": "98f1197a",
   "metadata": {},
   "outputs": [
    {
     "name": "stdout",
     "output_type": "stream",
     "text": [
      "5174.225932446321\n"
     ]
    }
   ],
   "source": [
    "print(euclidian_distance(v,w))"
   ]
  },
  {
   "cell_type": "code",
   "execution_count": 21,
   "id": "27e0981f",
   "metadata": {},
   "outputs": [
    {
     "name": "stdout",
     "output_type": "stream",
     "text": [
      "5174.225932446321\n"
     ]
    }
   ],
   "source": [
    "from scipy.spatial import distance\n",
    "print(distance.euclidean(v,w))"
   ]
  },
  {
   "cell_type": "code",
   "execution_count": 28,
   "id": "ebd9785e",
   "metadata": {},
   "outputs": [
    {
     "data": {
      "text/plain": [
       "5160.542897796704"
      ]
     },
     "execution_count": 28,
     "metadata": {},
     "output_type": "execute_result"
    }
   ],
   "source": [
    "import random\n",
    "import timeit\n",
    "\n",
    "i = 100000\n",
    "v = []\n",
    "w = []\n",
    "j = 0\n",
    "while (j < i):\n",
    "    v.append(random.randint(1,40))\n",
    "    w.append(random.randint(1,40))\n",
    "    j+=1\n",
    "\n",
    "euclidian_distance(v,w)\n",
    "distance.euclidean(v,w)\n",
    "\n",
    "    "
   ]
  },
  {
   "cell_type": "code",
   "execution_count": null,
   "id": "4b303239",
   "metadata": {},
   "outputs": [],
   "source": []
  }
 ],
 "metadata": {
  "kernelspec": {
   "display_name": "Python 3 (ipykernel)",
   "language": "python",
   "name": "python3"
  },
  "language_info": {
   "codemirror_mode": {
    "name": "ipython",
    "version": 3
   },
   "file_extension": ".py",
   "mimetype": "text/x-python",
   "name": "python",
   "nbconvert_exporter": "python",
   "pygments_lexer": "ipython3",
   "version": "3.8.5"
  }
 },
 "nbformat": 4,
 "nbformat_minor": 5
}
