{
 "cells": [
  {
   "cell_type": "code",
   "execution_count": 3,
   "metadata": {},
   "outputs": [],
   "source": [
    "import matplotlib.pyplot as plt\n",
    "from keras.models import Sequential\n",
    "from keras.layers import Dense, Dropout\n",
    "from keras.utils import to_categorical\n",
    "import numpy as np\n",
    "from sklearn.metrics import confusion_matrix\n",
    "from keras.datasets import mnist\n",
    "\n",
    "import mlflow\n",
    "import mlflow.tensorflow"
   ]
  },
  {
   "cell_type": "code",
   "execution_count": 16,
   "metadata": {},
   "outputs": [
    {
     "data": {
      "text/plain": [
       "Text(0.5, 1.0, '9')"
      ]
     },
     "execution_count": 16,
     "metadata": {},
     "output_type": "execute_result"
    },
    {
     "data": {
      "image/png": "[encoded data removed]",
      "text/plain": [
       "<Figure size 640x480 with 1 Axes>"
      ]
     },
     "metadata": {},
     "output_type": "display_data"
    }
   ],
   "source": [
    "(X_train, y_train), (X_test, y_test) = mnist.load_data()\n",
    "plt.imshow(X_train[22], cmap='gray')\n",
    "plt.title(y_train[22])"
   ]
  },
  {
   "cell_type": "code",
   "execution_count": 17,
   "metadata": {},
   "outputs": [],
   "source": [
    "X_train = X_train.reshape((len(X_train), np.prod(X_train.shape[1:])))\n",
    "X_test = X_test.reshape((len(X_test), np.prod(X_test.shape[1:])))"
   ]
  },
  {
   "cell_type": "code",
   "execution_count": 18,
   "metadata": {},
   "outputs": [],
   "source": [
    "# Reduzir dimensionalidade preservando 95% de sua variancia, para ocupar menos espaço. Cada instância terá pouco mais de 150 features, reduzindo 20% do tamanho\n",
    "from sklearn.decomposition import PCA\n",
    "pca = PCA(n_components = 154)\n",
    "X_train_reduced = pca.fit_transform(X_train)\n",
    "X_test_reduced = pca.fit_transform(X_test)"
   ]
  },
  {
   "cell_type": "code",
   "execution_count": 19,
   "metadata": {},
   "outputs": [],
   "source": [
    "X_train_reduced = X_train_reduced.astype('float32')\n",
    "X_test_reduced = X_test_reduced.astype('float32')\n",
    "#X_train_recovered = pca.inverse_transform(X_train_reduced)\n",
    "X_train_reduced /= 255\n",
    "X_test_reduced /= 255"
   ]
  },
  {
   "cell_type": "code",
   "execution_count": 20,
   "metadata": {},
   "outputs": [],
   "source": [
    "#transformando target em dummy (onehotencoder)\n",
    "y_train = to_categorical(y_train, 10)\n",
    "y_test = to_categorical(y_test, 10)"
   ]
  },
  {
   "cell_type": "code",
   "execution_count": 7,
   "metadata": {},
   "outputs": [
    {
     "data": {
      "text/plain": [
       "array([0., 0., 0., 0., 0., 0., 0., 1., 0., 0.], dtype=float32)"
      ]
     },
     "execution_count": 7,
     "metadata": {},
     "output_type": "execute_result"
    }
   ],
   "source": [
    "y_test[0]"
   ]
  },
  {
   "cell_type": "code",
   "execution_count": null,
   "metadata": {},
   "outputs": [],
   "source": [
    "def train_nn(hidden_layers, neurons, activation_function_hidden, drop_out, epochs):\n",
    "    mlflow.set_experiment('nnexperimento')\n",
    "\n",
    "    with mlflow.start_run():\n",
    "        mlflow.tensorflow.autolog()\n",
    "\n",
    "        #registro de tags\n",
    "        mlflow.set_tag('hidden_layers', hidden_layers)\n",
    "        mlflow.set_tag('neurons', neurons)\n",
    "        mlflow.set_tag('activation_function_hidden', activation_function_hidden)\n",
    "        mlflow.set_tag('drop_out', drop_out)\n",
    "        mlflow.set_tag('epochs', epochs)\n",
    "        \n",
    "        model = Sequential()\n",
    "        #primeira camada oculta + camada de entrada\n",
    "        model.add(Dense(units=neurons, activation=activation_function_hidden, input_dim=154))\n",
    "        model.add(Dropout(drop_out))\n",
    "\n",
    "        #camadas ocultas adicionais com dropout\n",
    "        for n in range(hidden_layers):\n",
    "            model.add(Dense(units=neurons, activation=activation_function_hidden))\n",
    "            model.add(Dropout(drop_out))\n",
    "\n",
    "        #camada de saída com 10 saídas\n",
    "        model.add(Dense(units=10, activation='softmax'))\n",
    "\n",
    "        model.compile(optimizer='adam', loss='categorical_crossentropy', metrics=['accuracy'])\n",
    "\n",
    "        model.summary()\n",
    "\n",
    "        histdata = model.fit(X_train_reduced, y_train, epochs=epochs, validation_data=(X_test_reduced, y_test))\n",
    "\n",
    "        #graficos\n",
    "        histdata.history.keys()\n",
    "        loss = plt.plot(histdata.history['val_loss']) #diferenca entre predito e observado\n",
    "        plt.savefig('loss.png')\n",
    "        #plt.close()\n",
    "\n",
    "        acc = plt.plot(histdata.history['val_accuracy']) #diferença entre erros e acertos\n",
    "        plt.savefig('acc.png')\n",
    "\n",
    "        #registrar artefatos\n",
    "        mlflow.log_artifact('loss.png')\n",
    "        mlflow.log_artifact('acc.png')        \n",
    "\n",
    "        #info para execucao\n",
    "        print('Modelo: ', mlflow.active_run().info.run_uuid)\n",
    "\n",
    "        #mlflow.sklearn.log_model(model, 'modelnn')\n",
    "    mlflow.end_run()"
   ]
  },
  {
   "cell_type": "code",
   "execution_count": 26,
   "metadata": {},
   "outputs": [
    {
     "name": "stdout",
     "output_type": "stream",
     "text": [
      "Model: \"sequential_14\"\n",
      "_________________________________________________________________\n",
      " Layer (type)                Output Shape              Param #   \n",
      "=================================================================\n",
      " dense_47 (Dense)            (None, 16)                2480      \n",
      "                                                                 \n",
      " dropout_33 (Dropout)        (None, 16)                0         \n",
      "                                                                 \n",
      " dense_48 (Dense)            (None, 16)                272       \n",
      "                                                                 \n",
      " dropout_34 (Dropout)        (None, 16)                0         \n",
      "                                                                 \n",
      " dense_49 (Dense)            (None, 16)                272       \n",
      "                                                                 \n",
      " dropout_35 (Dropout)        (None, 16)                0         \n",
      "                                                                 \n",
      " dense_50 (Dense)            (None, 10)                170       \n",
      "                                                                 \n",
      "=================================================================\n",
      "Total params: 3194 (12.48 KB)\n",
      "Trainable params: 3194 (12.48 KB)\n",
      "Non-trainable params: 0 (0.00 Byte)\n",
      "_________________________________________________________________\n",
      "Epoch 1/2\n",
      "   1/1875 [..............................] - ETA: 49:40 - loss: 2.3574 - accuracy: 0.0625WARNING:tensorflow:Callback method `on_train_batch_end` is slow compared to the batch time (batch time: 0.0024s vs `on_train_batch_end` time: 0.0072s). Check your callbacks.\n"
     ]
    },
    {
     "name": "stderr",
     "output_type": "stream",
     "text": [
      "WARNING:tensorflow:Callback method `on_train_batch_end` is slow compared to the batch time (batch time: 0.0024s vs `on_train_batch_end` time: 0.0072s). Check your callbacks.\n"
     ]
    },
    {
     "name": "stdout",
     "output_type": "stream",
     "text": [
      "1875/1875 [==============================] - 8s 3ms/step - loss: 1.1679 - accuracy: 0.5932 - val_loss: 4.6398 - val_accuracy: 0.1392\n",
      "Epoch 2/2\n",
      "  45/1875 [..............................] - ETA: 4s - loss: 0.8058 - accuracy: 0.7389"
     ]
    },
    {
     "name": "stderr",
     "output_type": "stream",
     "text": [
      "c:\\Users\\josen\\anaconda3\\lib\\site-packages\\keras\\src\\engine\\training.py:3000: UserWarning: You are saving your model as an HDF5 file via `model.save()`. This file format is considered legacy. We recommend using instead the native Keras format, e.g. `model.save('my_model.keras')`.\n",
      "  saving_api.save_model(\n"
     ]
    },
    {
     "name": "stdout",
     "output_type": "stream",
     "text": [
      "1875/1875 [==============================] - 6s 3ms/step - loss: 0.7391 - accuracy: 0.7650 - val_loss: 5.0993 - val_accuracy: 0.1485\n",
      "1/1 [==============================] - 0s 71ms/step\n",
      "INFO:tensorflow:Assets written to: C:\\Users\\josen\\AppData\\Local\\Temp\\tmp4ymk9gwx\\model\\data\\model\\assets\n"
     ]
    },
    {
     "name": "stderr",
     "output_type": "stream",
     "text": [
      "INFO:tensorflow:Assets written to: C:\\Users\\josen\\AppData\\Local\\Temp\\tmp4ymk9gwx\\model\\data\\model\\assets\n"
     ]
    },
    {
     "name": "stdout",
     "output_type": "stream",
     "text": [
      "Modelo:  bf50d26d064a428c877891f4b741d9e2\n"
     ]
    },
    {
     "data": {
      "image/png": "[encoded data removed]",
      "text/plain": [
       "<Figure size 640x480 with 1 Axes>"
      ]
     },
     "metadata": {},
     "output_type": "display_data"
    }
   ],
   "source": [
    "train_nn(2, 16,'relu',0.2,2)"
   ]
  },
  {
   "cell_type": "code",
   "execution_count": 27,
   "metadata": {},
   "outputs": [
    {
     "data": {
      "text/plain": [
       "\"\\nhidden_layers = [1, 2, 3]\\nneurons = [10,32,64]\\nactivation = ['relu', 'tanh']\\ndrop_out = [0.1, 0.2]\\nepochs = [5, 10, 20]\\n\\n# 108 modelos\\n\\nfor layers in hidden_layers:\\n    for n in neurons:\\n        for act in activation:\\n            for drop in drop_out:\\n                for e in epochs:\\n                    train_nn(layers, n, act, drop, e)\\n\""
      ]
     },
     "execution_count": 27,
     "metadata": {},
     "output_type": "execute_result"
    }
   ],
   "source": [
    "\"\"\"\n",
    "hidden_layers = [1, 2, 3]\n",
    "neurons = [10,32,64]\n",
    "activation = ['relu', 'tanh']\n",
    "drop_out = [0.1, 0.2]\n",
    "epochs = [5, 10, 20]\n",
    "\n",
    "# 108 modelos\n",
    "\n",
    "for layers in hidden_layers:\n",
    "    for n in neurons:\n",
    "        for act in activation:\n",
    "            for drop in drop_out:\n",
    "                for e in epochs:\n",
    "                    train_nn(layers, n, act, drop, e)\n",
    "\"\"\""
   ]
  },
  {
   "cell_type": "markdown",
   "metadata": {},
   "source": [
    "#### Para servir o modelo\n",
    "#### mlflow models serve --model-uri runs :/runid/log_name -p 2345"
   ]
  }
 ],
 "metadata": {
  "kernelspec": {
   "display_name": "base",
   "language": "python",
   "name": "python3"
  },
  "language_info": {
   "codemirror_mode": {
    "name": "ipython",
    "version": 3
   },
   "file_extension": ".py",
   "mimetype": "text/x-python",
   "name": "python",
   "nbconvert_exporter": "python",
   "pygments_lexer": "ipython3",
   "version": "3.8.5"
  }
 },
 "nbformat": 4,
 "nbformat_minor": 2
}
