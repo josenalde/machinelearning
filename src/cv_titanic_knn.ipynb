{
 "cells": [
  {
   "cell_type": "code",
   "execution_count": 1,
   "metadata": {},
   "outputs": [],
   "source": [
    "import pandas as pd\n",
    "from sklearn.neighbors import KNeighborsClassifier\n",
    "from sklearn.model_selection import cross_val_score"
   ]
  },
  {
   "cell_type": "code",
   "execution_count": 49,
   "metadata": {},
   "outputs": [
    {
     "name": "stdout",
     "output_type": "stream",
     "text": [
      "<class 'pandas.core.frame.DataFrame'>\n",
      "RangeIndex: 891 entries, 0 to 890\n",
      "Data columns (total 12 columns):\n",
      " #   Column       Non-Null Count  Dtype  \n",
      "---  ------       --------------  -----  \n",
      " 0   PassengerId  891 non-null    int64  \n",
      " 1   Survived     891 non-null    int64  \n",
      " 2   Pclass       891 non-null    int64  \n",
      " 3   Name         891 non-null    object \n",
      " 4   Sex          891 non-null    object \n",
      " 5   Age          714 non-null    float64\n",
      " 6   SibSp        891 non-null    int64  \n",
      " 7   Parch        891 non-null    int64  \n",
      " 8   Ticket       891 non-null    object \n",
      " 9   Fare         891 non-null    float64\n",
      " 10  Cabin        204 non-null    object \n",
      " 11  Embarked     889 non-null    object \n",
      "dtypes: float64(2), int64(5), object(5)\n",
      "memory usage: 83.7+ KB\n",
      "None\n",
      "(891, 12)\n"
     ]
    }
   ],
   "source": [
    "# load train dataset (todo dataset tem 1309 observações)\n",
    "df_train = pd.read_csv('datasets/train_titanic.csv')\n",
    "print(df_train.info())\n",
    "df_train.head()\n",
    "print(df_train.shape)\n"
   ]
  },
  {
   "cell_type": "code",
   "execution_count": 41,
   "metadata": {},
   "outputs": [
    {
     "name": "stdout",
     "output_type": "stream",
     "text": [
      "0.7420382165605095\n"
     ]
    }
   ],
   "source": [
    "data, target = df_train.drop(columns = {'Survived','Name'}), df_train['Survived']\n",
    "women = df_train.loc[df_train.Sex == 'female'][\"Survived\"]\n",
    "rate_women = sum(women)/len(women)\n",
    "print(rate_women)"
   ]
  },
  {
   "cell_type": "code",
   "execution_count": 33,
   "metadata": {},
   "outputs": [
    {
     "name": "stdout",
     "output_type": "stream",
     "text": [
      "<class 'pandas.core.frame.DataFrame'>\n"
     ]
    }
   ],
   "source": [
    "features = [\"Pclass\", \"Sex\", \"SibSp\", \"Parch\"] # exemplo de subconjunto de features\n",
    "# pclass\tTicket class\t1 = 1st (upper), 2 = 2nd (middle), 3 = 3rd (lower)\n",
    "# sibsp: # of siblings The dataset defines family relations in this way... Sibling = brother, sister, stepbrother, stepsister\n",
    "                                                             #Spouse = husband, wife (mistresses and fiancés were ignored)\n",
    "# parch: # of parents / children aboard the Titanic\t                                                             \n",
    "\"\"\"Parent = mother, father\n",
    "Child = daughter, son, stepdaughter, stepson\n",
    "Some children travelled only with a nanny, therefore parch=0 for them.\"\"\"\n",
    "\n",
    "X = pd.get_dummies(data[features]) #similar to one_hot_encoding (return a df)"
   ]
  },
  {
   "cell_type": "code",
   "execution_count": 39,
   "metadata": {},
   "outputs": [
    {
     "name": "stdout",
     "output_type": "stream",
     "text": [
      "[0.78212291 0.80337079 0.79213483 0.78651685 0.80898876]\n",
      "Accuracy: 0.79 (+/- 0.02)\n"
     ]
    }
   ],
   "source": [
    "# KNN classifier model\n",
    "knn_model = KNeighborsClassifier(n_neighbors=5)\n",
    "\n",
    "# K-fold (k=5)\n",
    "scores = cross_val_score(knn_model, X, target, cv=5, scoring='accuracy')\n",
    "print(scores)\n",
    "\n",
    "# Results\n",
    "print(\"Accuracy: %0.2f (+/- %0.2f)\" % (scores.mean(), scores.std() * 2))"
   ]
  },
  {
   "cell_type": "code",
   "execution_count": 63,
   "metadata": {},
   "outputs": [],
   "source": [
    "from sklearn.model_selection import train_test_split, cross_val_score\n",
    "import numpy as np\n",
    "def classify(model):\n",
    "    X_train, X_test, y_train, y_test = train_test_split(X, target, test_size=0.3, random_state=42)\n",
    "    model.fit(X_train, y_train)\n",
    "    print('Accuracy:', model.score(X_test, y_test))\n",
    "    \n",
    "    score = cross_val_score(model, X, target, cv=5)\n",
    "    print('CV Score:', np.mean(score))"
   ]
  },
  {
   "cell_type": "code",
   "execution_count": 64,
   "metadata": {},
   "outputs": [
    {
     "name": "stdout",
     "output_type": "stream",
     "text": [
      "Accuracy: 0.7574626865671642\n",
      "CV Score: 0.7946268281965978\n"
     ]
    }
   ],
   "source": [
    "classify(knn_model)"
   ]
  },
  {
   "cell_type": "code",
   "execution_count": 50,
   "metadata": {},
   "outputs": [
    {
     "name": "stdout",
     "output_type": "stream",
     "text": [
      "(418, 11)\n",
      "Submissão salva!\n"
     ]
    }
   ],
   "source": [
    "df_test = pd.read_csv('datasets/test_titanic.csv')\n",
    "print(df_test.shape)\n",
    "#df_test.head()\n",
    "X_test = pd.get_dummies(df_test[features])\n",
    "knn_model.fit(X,target)\n",
    "y_pred = knn_model.predict(X_test)\n",
    "#y_pred\n",
    "# salvar para upload em competições como Kaggle em que o conjunto de teste não possui coluna target\n",
    "output = pd.DataFrame({'PassengerId': df_test.PassengerId, 'Survived': y_pred})\n",
    "output.to_csv('mypredictions.csv', index=False)\n",
    "print(\"Submissão salva!\")\n",
    "# https://www.kaggle.com/code/alexisbcook/titanic-tutorial"
   ]
  },
  {
   "cell_type": "code",
   "execution_count": 52,
   "metadata": {},
   "outputs": [
    {
     "name": "stdout",
     "output_type": "stream",
     "text": [
      "Collecting xlrd\n",
      "  Obtaining dependency information for xlrd from https://files.pythonhosted.org/packages/a6/0c/c2a72d51fe56e08a08acc85d13013558a2d793028ae7385448a6ccdfae64/xlrd-2.0.1-py2.py3-none-any.whl.metadata\n",
      "  Downloading xlrd-2.0.1-py2.py3-none-any.whl.metadata (3.4 kB)\n",
      "Downloading xlrd-2.0.1-py2.py3-none-any.whl (96 kB)\n",
      "   ---------------------------------------- 0.0/96.5 kB ? eta -:--:--\n",
      "   ------------ --------------------------- 30.7/96.5 kB 1.4 MB/s eta 0:00:01\n",
      "   ---------------------------------------- 96.5/96.5 kB 927.9 kB/s eta 0:00:00\n",
      "Installing collected packages: xlrd\n",
      "Successfully installed xlrd-2.0.1\n"
     ]
    }
   ],
   "source": [
    "!pip install xlrd"
   ]
  },
  {
   "cell_type": "code",
   "execution_count": 58,
   "metadata": {},
   "outputs": [],
   "source": [
    "\n",
    "df_full = pd.read_excel('datasets/titanic.xls') #este dataset não corresponde - apenas para exemplificar\n",
    "#df_full.head()\n",
    "target_test = df_full.iloc[891:,1]\n",
    "#target_test\n",
    "\n"
   ]
  },
  {
   "cell_type": "code",
   "execution_count": 57,
   "metadata": {},
   "outputs": [
    {
     "name": "stdout",
     "output_type": "stream",
     "text": [
      "              precision    recall  f1-score   support\n",
      "\n",
      "           0       0.77      0.67      0.71       312\n",
      "           1       0.29      0.40      0.33       106\n",
      "\n",
      "    accuracy                           0.60       418\n",
      "   macro avg       0.53      0.53      0.52       418\n",
      "weighted avg       0.64      0.60      0.62       418\n",
      "\n"
     ]
    }
   ],
   "source": [
    "from sklearn.metrics import classification_report\n",
    "print(classification_report(target_test, y_pred))"
   ]
  }
 ],
 "metadata": {
  "kernelspec": {
   "display_name": "base",
   "language": "python",
   "name": "python3"
  },
  "language_info": {
   "codemirror_mode": {
    "name": "ipython",
    "version": 3
   },
   "file_extension": ".py",
   "mimetype": "text/x-python",
   "name": "python",
   "nbconvert_exporter": "python",
   "pygments_lexer": "ipython3",
   "version": "3.8.5"
  }
 },
 "nbformat": 4,
 "nbformat_minor": 2
}
