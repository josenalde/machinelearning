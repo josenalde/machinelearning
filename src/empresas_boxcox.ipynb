{
 "cells": [
  {
   "cell_type": "code",
   "execution_count": 2,
   "metadata": {},
   "outputs": [
    {
     "data": {
      "text/html": [
       "<div>\n",
       "<style scoped>\n",
       "    .dataframe tbody tr th:only-of-type {\n",
       "        vertical-align: middle;\n",
       "    }\n",
       "\n",
       "    .dataframe tbody tr th {\n",
       "        vertical-align: top;\n",
       "    }\n",
       "\n",
       "    .dataframe thead th {\n",
       "        text-align: right;\n",
       "    }\n",
       "</style>\n",
       "<table border=\"1\" class=\"dataframe\">\n",
       "  <thead>\n",
       "    <tr style=\"text-align: right;\">\n",
       "      <th></th>\n",
       "      <th>empresa</th>\n",
       "      <th>retorno</th>\n",
       "      <th>disclosure</th>\n",
       "      <th>endividamento</th>\n",
       "      <th>ativos</th>\n",
       "      <th>liquidez</th>\n",
       "    </tr>\n",
       "  </thead>\n",
       "  <tbody>\n",
       "    <tr>\n",
       "      <th>0</th>\n",
       "      <td>Adidas</td>\n",
       "      <td>63.67</td>\n",
       "      <td>83.0</td>\n",
       "      <td>1.3</td>\n",
       "      <td>3967.0</td>\n",
       "      <td>14.3</td>\n",
       "    </tr>\n",
       "    <tr>\n",
       "      <th>1</th>\n",
       "      <td>BASF</td>\n",
       "      <td>55.49</td>\n",
       "      <td>91.0</td>\n",
       "      <td>33.9</td>\n",
       "      <td>5450.0</td>\n",
       "      <td>16.8</td>\n",
       "    </tr>\n",
       "    <tr>\n",
       "      <th>2</th>\n",
       "      <td>Bayer</td>\n",
       "      <td>52.42</td>\n",
       "      <td>77.0</td>\n",
       "      <td>36.1</td>\n",
       "      <td>4327.0</td>\n",
       "      <td>15.5</td>\n",
       "    </tr>\n",
       "    <tr>\n",
       "      <th>3</th>\n",
       "      <td>BSH</td>\n",
       "      <td>54.00</td>\n",
       "      <td>90.0</td>\n",
       "      <td>20.8</td>\n",
       "      <td>4109.0</td>\n",
       "      <td>16.8</td>\n",
       "    </tr>\n",
       "    <tr>\n",
       "      <th>4</th>\n",
       "      <td>Bosch</td>\n",
       "      <td>68.01</td>\n",
       "      <td>93.0</td>\n",
       "      <td>14.1</td>\n",
       "      <td>4458.0</td>\n",
       "      <td>17.0</td>\n",
       "    </tr>\n",
       "    <tr>\n",
       "      <th>...</th>\n",
       "      <td>...</td>\n",
       "      <td>...</td>\n",
       "      <td>...</td>\n",
       "      <td>...</td>\n",
       "      <td>...</td>\n",
       "      <td>...</td>\n",
       "    </tr>\n",
       "    <tr>\n",
       "      <th>119</th>\n",
       "      <td>DuPont</td>\n",
       "      <td>39.85</td>\n",
       "      <td>41.0</td>\n",
       "      <td>49.5</td>\n",
       "      <td>2996.0</td>\n",
       "      <td>10.5</td>\n",
       "    </tr>\n",
       "    <tr>\n",
       "      <th>120</th>\n",
       "      <td>ExxonMobil</td>\n",
       "      <td>44.16</td>\n",
       "      <td>35.0</td>\n",
       "      <td>16.8</td>\n",
       "      <td>3622.0</td>\n",
       "      <td>12.3</td>\n",
       "    </tr>\n",
       "    <tr>\n",
       "      <th>121</th>\n",
       "      <td>FedEx</td>\n",
       "      <td>45.38</td>\n",
       "      <td>24.0</td>\n",
       "      <td>16.1</td>\n",
       "      <td>2972.0</td>\n",
       "      <td>9.7</td>\n",
       "    </tr>\n",
       "    <tr>\n",
       "      <th>122</th>\n",
       "      <td>Ford Motors</td>\n",
       "      <td>45.25</td>\n",
       "      <td>68.0</td>\n",
       "      <td>34.8</td>\n",
       "      <td>4691.0</td>\n",
       "      <td>8.9</td>\n",
       "    </tr>\n",
       "    <tr>\n",
       "      <th>123</th>\n",
       "      <td>General Electric</td>\n",
       "      <td>33.28</td>\n",
       "      <td>14.0</td>\n",
       "      <td>40.0</td>\n",
       "      <td>2303.0</td>\n",
       "      <td>8.0</td>\n",
       "    </tr>\n",
       "  </tbody>\n",
       "</table>\n",
       "<p>124 rows × 6 columns</p>\n",
       "</div>"
      ],
      "text/plain": [
       "              empresa  retorno  disclosure  endividamento  ativos  liquidez\n",
       "0              Adidas    63.67        83.0            1.3  3967.0      14.3\n",
       "1                BASF    55.49        91.0           33.9  5450.0      16.8\n",
       "2               Bayer    52.42        77.0           36.1  4327.0      15.5\n",
       "3                 BSH    54.00        90.0           20.8  4109.0      16.8\n",
       "4               Bosch    68.01        93.0           14.1  4458.0      17.0\n",
       "..                ...      ...         ...            ...     ...       ...\n",
       "119            DuPont    39.85        41.0           49.5  2996.0      10.5\n",
       "120        ExxonMobil    44.16        35.0           16.8  3622.0      12.3\n",
       "121             FedEx    45.38        24.0           16.1  2972.0       9.7\n",
       "122       Ford Motors    45.25        68.0           34.8  4691.0       8.9\n",
       "123  General Electric    33.28        14.0           40.0  2303.0       8.0\n",
       "\n",
       "[124 rows x 6 columns]"
      ]
     },
     "execution_count": 2,
     "metadata": {},
     "output_type": "execute_result"
    }
   ],
   "source": [
    "import pandas as pd\n",
    "\n",
    "df = pd.read_feather('datasets/empresas.feather')\n",
    "df\n"
   ]
  },
  {
   "cell_type": "code",
   "execution_count": 3,
   "metadata": {},
   "outputs": [
    {
     "data": {
      "text/html": [
       "<div>\n",
       "<style scoped>\n",
       "    .dataframe tbody tr th:only-of-type {\n",
       "        vertical-align: middle;\n",
       "    }\n",
       "\n",
       "    .dataframe tbody tr th {\n",
       "        vertical-align: top;\n",
       "    }\n",
       "\n",
       "    .dataframe thead th {\n",
       "        text-align: right;\n",
       "    }\n",
       "</style>\n",
       "<table border=\"1\" class=\"dataframe\">\n",
       "  <thead>\n",
       "    <tr style=\"text-align: right;\">\n",
       "      <th></th>\n",
       "      <th>retorno</th>\n",
       "      <th>disclosure</th>\n",
       "      <th>endividamento</th>\n",
       "      <th>ativos</th>\n",
       "      <th>liquidez</th>\n",
       "    </tr>\n",
       "  </thead>\n",
       "  <tbody>\n",
       "    <tr>\n",
       "      <th>count</th>\n",
       "      <td>124.000000</td>\n",
       "      <td>124.000000</td>\n",
       "      <td>124.000000</td>\n",
       "      <td>124.000000</td>\n",
       "      <td>124.000000</td>\n",
       "    </tr>\n",
       "    <tr>\n",
       "      <th>mean</th>\n",
       "      <td>46.195484</td>\n",
       "      <td>49.677419</td>\n",
       "      <td>27.734677</td>\n",
       "      <td>3739.064516</td>\n",
       "      <td>12.300000</td>\n",
       "    </tr>\n",
       "    <tr>\n",
       "      <th>std</th>\n",
       "      <td>15.075886</td>\n",
       "      <td>31.338059</td>\n",
       "      <td>12.454287</td>\n",
       "      <td>1538.500462</td>\n",
       "      <td>3.141746</td>\n",
       "    </tr>\n",
       "    <tr>\n",
       "      <th>min</th>\n",
       "      <td>21.030000</td>\n",
       "      <td>6.000000</td>\n",
       "      <td>1.200000</td>\n",
       "      <td>1851.000000</td>\n",
       "      <td>7.900000</td>\n",
       "    </tr>\n",
       "    <tr>\n",
       "      <th>25%</th>\n",
       "      <td>33.840000</td>\n",
       "      <td>18.000000</td>\n",
       "      <td>18.525000</td>\n",
       "      <td>2597.000000</td>\n",
       "      <td>9.300000</td>\n",
       "    </tr>\n",
       "    <tr>\n",
       "      <th>50%</th>\n",
       "      <td>44.175000</td>\n",
       "      <td>41.000000</td>\n",
       "      <td>24.950000</td>\n",
       "      <td>3476.000000</td>\n",
       "      <td>12.200000</td>\n",
       "    </tr>\n",
       "    <tr>\n",
       "      <th>75%</th>\n",
       "      <td>58.205000</td>\n",
       "      <td>83.000000</td>\n",
       "      <td>34.125000</td>\n",
       "      <td>4458.000000</td>\n",
       "      <td>15.800000</td>\n",
       "    </tr>\n",
       "    <tr>\n",
       "      <th>max</th>\n",
       "      <td>86.180000</td>\n",
       "      <td>98.000000</td>\n",
       "      <td>64.900000</td>\n",
       "      <td>9010.000000</td>\n",
       "      <td>17.000000</td>\n",
       "    </tr>\n",
       "  </tbody>\n",
       "</table>\n",
       "</div>"
      ],
      "text/plain": [
       "          retorno  disclosure  endividamento       ativos    liquidez\n",
       "count  124.000000  124.000000     124.000000   124.000000  124.000000\n",
       "mean    46.195484   49.677419      27.734677  3739.064516   12.300000\n",
       "std     15.075886   31.338059      12.454287  1538.500462    3.141746\n",
       "min     21.030000    6.000000       1.200000  1851.000000    7.900000\n",
       "25%     33.840000   18.000000      18.525000  2597.000000    9.300000\n",
       "50%     44.175000   41.000000      24.950000  3476.000000   12.200000\n",
       "75%     58.205000   83.000000      34.125000  4458.000000   15.800000\n",
       "max     86.180000   98.000000      64.900000  9010.000000   17.000000"
      ]
     },
     "execution_count": 3,
     "metadata": {},
     "output_type": "execute_result"
    }
   ],
   "source": [
    "df.describe()"
   ]
  },
  {
   "cell_type": "code",
   "execution_count": 5,
   "metadata": {},
   "outputs": [
    {
     "name": "stdout",
     "output_type": "stream",
     "text": [
      "                retorno  disclosure  endividamento    ativos  liquidez\n",
      "retorno        1.000000    0.863747       0.004577  0.811349  0.859083\n",
      "disclosure     0.863747    1.000000       0.136587  0.831343  0.867605\n",
      "endividamento  0.004577    0.136587       1.000000  0.228085 -0.081803\n",
      "ativos         0.811349    0.831343       0.228085  1.000000  0.702286\n",
      "liquidez       0.859083    0.867605      -0.081803  0.702286  1.000000 \n",
      "\n"
     ]
    },
    {
     "name": "stderr",
     "output_type": "stream",
     "text": [
      "C:\\Users\\josen\\AppData\\Local\\Temp\\ipykernel_7900\\840412084.py:3: FutureWarning: The default value of numeric_only in DataFrame.corr is deprecated. In a future version, it will default to False. Select only valid columns or specify the value of numeric_only to silence this warning.\n",
      "  df_corr = df.corr(method='pearson')\n"
     ]
    }
   ],
   "source": [
    "# correlação\n",
    "\n",
    "df_corr = df.corr(method='pearson')\n",
    "print(df_corr, \"\\n\")"
   ]
  },
  {
   "cell_type": "code",
   "execution_count": 6,
   "metadata": {},
   "outputs": [
    {
     "data": {
      "image/png": "[encoded data removed]",
      "text/plain": [
       "<Figure size 800x600 with 2 Axes>"
      ]
     },
     "metadata": {},
     "output_type": "display_data"
    }
   ],
   "source": [
    "import seaborn as sb\n",
    "import matplotlib.pyplot as plt\n",
    "\n",
    "plt.figure(figsize=(8, 6))\n",
    "sb.heatmap(df_corr, annot=True)\n",
    "plt.show()\n"
   ]
  },
  {
   "cell_type": "code",
   "execution_count": null,
   "metadata": {},
   "outputs": [
    {
     "data": {
      "text/html": [
       "<div>\n",
       "<style scoped>\n",
       "    .dataframe tbody tr th:only-of-type {\n",
       "        vertical-align: middle;\n",
       "    }\n",
       "\n",
       "    .dataframe tbody tr th {\n",
       "        vertical-align: top;\n",
       "    }\n",
       "\n",
       "    .dataframe thead th {\n",
       "        text-align: right;\n",
       "    }\n",
       "</style>\n",
       "<table border=\"1\" class=\"dataframe\">\n",
       "  <thead>\n",
       "    <tr style=\"text-align: right;\">\n",
       "      <th></th>\n",
       "      <th>disclosure</th>\n",
       "      <th>endividamento</th>\n",
       "      <th>ativos</th>\n",
       "      <th>liquidez</th>\n",
       "    </tr>\n",
       "  </thead>\n",
       "  <tbody>\n",
       "    <tr>\n",
       "      <th>0</th>\n",
       "      <td>83.0</td>\n",
       "      <td>1.3</td>\n",
       "      <td>3967.0</td>\n",
       "      <td>14.3</td>\n",
       "    </tr>\n",
       "    <tr>\n",
       "      <th>1</th>\n",
       "      <td>91.0</td>\n",
       "      <td>33.9</td>\n",
       "      <td>5450.0</td>\n",
       "      <td>16.8</td>\n",
       "    </tr>\n",
       "    <tr>\n",
       "      <th>2</th>\n",
       "      <td>77.0</td>\n",
       "      <td>36.1</td>\n",
       "      <td>4327.0</td>\n",
       "      <td>15.5</td>\n",
       "    </tr>\n",
       "    <tr>\n",
       "      <th>3</th>\n",
       "      <td>90.0</td>\n",
       "      <td>20.8</td>\n",
       "      <td>4109.0</td>\n",
       "      <td>16.8</td>\n",
       "    </tr>\n",
       "    <tr>\n",
       "      <th>4</th>\n",
       "      <td>93.0</td>\n",
       "      <td>14.1</td>\n",
       "      <td>4458.0</td>\n",
       "      <td>17.0</td>\n",
       "    </tr>\n",
       "    <tr>\n",
       "      <th>...</th>\n",
       "      <td>...</td>\n",
       "      <td>...</td>\n",
       "      <td>...</td>\n",
       "      <td>...</td>\n",
       "    </tr>\n",
       "    <tr>\n",
       "      <th>119</th>\n",
       "      <td>41.0</td>\n",
       "      <td>49.5</td>\n",
       "      <td>2996.0</td>\n",
       "      <td>10.5</td>\n",
       "    </tr>\n",
       "    <tr>\n",
       "      <th>120</th>\n",
       "      <td>35.0</td>\n",
       "      <td>16.8</td>\n",
       "      <td>3622.0</td>\n",
       "      <td>12.3</td>\n",
       "    </tr>\n",
       "    <tr>\n",
       "      <th>121</th>\n",
       "      <td>24.0</td>\n",
       "      <td>16.1</td>\n",
       "      <td>2972.0</td>\n",
       "      <td>9.7</td>\n",
       "    </tr>\n",
       "    <tr>\n",
       "      <th>122</th>\n",
       "      <td>68.0</td>\n",
       "      <td>34.8</td>\n",
       "      <td>4691.0</td>\n",
       "      <td>8.9</td>\n",
       "    </tr>\n",
       "    <tr>\n",
       "      <th>123</th>\n",
       "      <td>14.0</td>\n",
       "      <td>40.0</td>\n",
       "      <td>2303.0</td>\n",
       "      <td>8.0</td>\n",
       "    </tr>\n",
       "  </tbody>\n",
       "</table>\n",
       "<p>124 rows × 4 columns</p>\n",
       "</div>"
      ],
      "text/plain": [
       "     disclosure  endividamento  ativos  liquidez\n",
       "0          83.0            1.3  3967.0      14.3\n",
       "1          91.0           33.9  5450.0      16.8\n",
       "2          77.0           36.1  4327.0      15.5\n",
       "3          90.0           20.8  4109.0      16.8\n",
       "4          93.0           14.1  4458.0      17.0\n",
       "..          ...            ...     ...       ...\n",
       "119        41.0           49.5  2996.0      10.5\n",
       "120        35.0           16.8  3622.0      12.3\n",
       "121        24.0           16.1  2972.0       9.7\n",
       "122        68.0           34.8  4691.0       8.9\n",
       "123        14.0           40.0  2303.0       8.0\n",
       "\n",
       "[124 rows x 4 columns]"
      ]
     },
     "execution_count": 10,
     "metadata": {},
     "output_type": "execute_result"
    }
   ],
   "source": [
    "import statsmodels.api as sm\n",
    "\n",
    "# defining the variables\n",
    "X = df.drop(columns=['empresa','retorno'])\n",
    "y = df['retorno']"
   ]
  },
  {
   "cell_type": "code",
   "execution_count": 11,
   "metadata": {},
   "outputs": [
    {
     "name": "stdout",
     "output_type": "stream",
     "text": [
      "                            OLS Regression Results                            \n",
      "==============================================================================\n",
      "Dep. Variable:                retorno   R-squared:                       0.833\n",
      "Model:                            OLS   Adj. R-squared:                  0.827\n",
      "Method:                 Least Squares   F-statistic:                     147.9\n",
      "Date:                Thu, 21 Nov 2024   Prob (F-statistic):           3.35e-45\n",
      "Time:                        09:48:15   Log-Likelihood:                -401.07\n",
      "No. Observations:                 124   AIC:                             812.1\n",
      "Df Residuals:                     119   BIC:                             826.2\n",
      "Df Model:                           4                                         \n",
      "Covariance Type:            nonrobust                                         \n",
      "=================================================================================\n",
      "                    coef    std err          t      P>|t|      [0.025      0.975]\n",
      "---------------------------------------------------------------------------------\n",
      "const             6.0506      4.080      1.483      0.141      -2.028      14.129\n",
      "disclosure        0.1067      0.048      2.227      0.028       0.012       0.202\n",
      "endividamento    -0.0882      0.051     -1.723      0.087      -0.190       0.013\n",
      "ativos            0.0035      0.001      5.134      0.000       0.002       0.005\n",
      "liquidez          1.9762      0.396      4.987      0.000       1.191       2.761\n",
      "==============================================================================\n",
      "Omnibus:                       35.509   Durbin-Watson:                   2.065\n",
      "Prob(Omnibus):                  0.000   Jarque-Bera (JB):                7.127\n",
      "Skew:                          -0.136   Prob(JB):                       0.0283\n",
      "Kurtosis:                       1.858   Cond. No.                     2.94e+04\n",
      "==============================================================================\n",
      "\n",
      "Notes:\n",
      "[1] Standard Errors assume that the covariance matrix of the errors is correctly specified.\n",
      "[2] The condition number is large, 2.94e+04. This might indicate that there are\n",
      "strong multicollinearity or other numerical problems.\n"
     ]
    }
   ],
   "source": [
    "# adding the constant term\n",
    "X = sm.add_constant(X)\n",
    "\n",
    "# performing the regression\n",
    "# and fitting the model\n",
    "model = sm.OLS(y, X).fit()\n",
    "\n",
    "# printing the summary table\n",
    "print(model.summary())"
   ]
  },
  {
   "cell_type": "code",
   "execution_count": 12,
   "metadata": {},
   "outputs": [],
   "source": [
    "# feature selection\n",
    "\n",
    "from sklearn.feature_selection import RFE #recursive elimination\n",
    "from sklearn.linear_model import LinearRegression\n",
    "\n",
    "model_rfe = RFE(estimator=LinearRegression(), n_features_to_select=3, step=1)"
   ]
  },
  {
   "cell_type": "code",
   "execution_count": 16,
   "metadata": {},
   "outputs": [
    {
     "data": {
      "text/html": [
       "<style>#sk-container-id-2 {color: black;}#sk-container-id-2 pre{padding: 0;}#sk-container-id-2 div.sk-toggleable {background-color: white;}#sk-container-id-2 label.sk-toggleable__label {cursor: pointer;display: block;width: 100%;margin-bottom: 0;padding: 0.3em;box-sizing: border-box;text-align: center;}#sk-container-id-2 label.sk-toggleable__label-arrow:before {content: \"▸\";float: left;margin-right: 0.25em;color: #696969;}#sk-container-id-2 label.sk-toggleable__label-arrow:hover:before {color: black;}#sk-container-id-2 div.sk-estimator:hover label.sk-toggleable__label-arrow:before {color: black;}#sk-container-id-2 div.sk-toggleable__content {max-height: 0;max-width: 0;overflow: hidden;text-align: left;background-color: #f0f8ff;}#sk-container-id-2 div.sk-toggleable__content pre {margin: 0.2em;color: black;border-radius: 0.25em;background-color: #f0f8ff;}#sk-container-id-2 input.sk-toggleable__control:checked~div.sk-toggleable__content {max-height: 200px;max-width: 100%;overflow: auto;}#sk-container-id-2 input.sk-toggleable__control:checked~label.sk-toggleable__label-arrow:before {content: \"▾\";}#sk-container-id-2 div.sk-estimator input.sk-toggleable__control:checked~label.sk-toggleable__label {background-color: #d4ebff;}#sk-container-id-2 div.sk-label input.sk-toggleable__control:checked~label.sk-toggleable__label {background-color: #d4ebff;}#sk-container-id-2 input.sk-hidden--visually {border: 0;clip: rect(1px 1px 1px 1px);clip: rect(1px, 1px, 1px, 1px);height: 1px;margin: -1px;overflow: hidden;padding: 0;position: absolute;width: 1px;}#sk-container-id-2 div.sk-estimator {font-family: monospace;background-color: #f0f8ff;border: 1px dotted black;border-radius: 0.25em;box-sizing: border-box;margin-bottom: 0.5em;}#sk-container-id-2 div.sk-estimator:hover {background-color: #d4ebff;}#sk-container-id-2 div.sk-parallel-item::after {content: \"\";width: 100%;border-bottom: 1px solid gray;flex-grow: 1;}#sk-container-id-2 div.sk-label:hover label.sk-toggleable__label {background-color: #d4ebff;}#sk-container-id-2 div.sk-serial::before {content: \"\";position: absolute;border-left: 1px solid gray;box-sizing: border-box;top: 0;bottom: 0;left: 50%;z-index: 0;}#sk-container-id-2 div.sk-serial {display: flex;flex-direction: column;align-items: center;background-color: white;padding-right: 0.2em;padding-left: 0.2em;position: relative;}#sk-container-id-2 div.sk-item {position: relative;z-index: 1;}#sk-container-id-2 div.sk-parallel {display: flex;align-items: stretch;justify-content: center;background-color: white;position: relative;}#sk-container-id-2 div.sk-item::before, #sk-container-id-2 div.sk-parallel-item::before {content: \"\";position: absolute;border-left: 1px solid gray;box-sizing: border-box;top: 0;bottom: 0;left: 50%;z-index: -1;}#sk-container-id-2 div.sk-parallel-item {display: flex;flex-direction: column;z-index: 1;position: relative;background-color: white;}#sk-container-id-2 div.sk-parallel-item:first-child::after {align-self: flex-end;width: 50%;}#sk-container-id-2 div.sk-parallel-item:last-child::after {align-self: flex-start;width: 50%;}#sk-container-id-2 div.sk-parallel-item:only-child::after {width: 0;}#sk-container-id-2 div.sk-dashed-wrapped {border: 1px dashed gray;margin: 0 0.4em 0.5em 0.4em;box-sizing: border-box;padding-bottom: 0.4em;background-color: white;}#sk-container-id-2 div.sk-label label {font-family: monospace;font-weight: bold;display: inline-block;line-height: 1.2em;}#sk-container-id-2 div.sk-label-container {text-align: center;}#sk-container-id-2 div.sk-container {/* jupyter's `normalize.less` sets `[hidden] { display: none; }` but bootstrap.min.css set `[hidden] { display: none !important; }` so we also need the `!important` here to be able to override the default hidden behavior on the sphinx rendered scikit-learn.org. See: https://github.com/scikit-learn/scikit-learn/issues/21755 */display: inline-block !important;position: relative;}#sk-container-id-2 div.sk-text-repr-fallback {display: none;}</style><div id=\"sk-container-id-2\" class=\"sk-top-container\"><div class=\"sk-text-repr-fallback\"><pre>RFE(estimator=LinearRegression(), n_features_to_select=3)</pre><b>In a Jupyter environment, please rerun this cell to show the HTML representation or trust the notebook. <br />On GitHub, the HTML representation is unable to render, please try loading this page with nbviewer.org.</b></div><div class=\"sk-container\" hidden><div class=\"sk-item sk-dashed-wrapped\"><div class=\"sk-label-container\"><div class=\"sk-label sk-toggleable\"><input class=\"sk-toggleable__control sk-hidden--visually\" id=\"sk-estimator-id-4\" type=\"checkbox\" ><label for=\"sk-estimator-id-4\" class=\"sk-toggleable__label sk-toggleable__label-arrow\">RFE</label><div class=\"sk-toggleable__content\"><pre>RFE(estimator=LinearRegression(), n_features_to_select=3)</pre></div></div></div><div class=\"sk-parallel\"><div class=\"sk-parallel-item\"><div class=\"sk-item\"><div class=\"sk-label-container\"><div class=\"sk-label sk-toggleable\"><input class=\"sk-toggleable__control sk-hidden--visually\" id=\"sk-estimator-id-5\" type=\"checkbox\" ><label for=\"sk-estimator-id-5\" class=\"sk-toggleable__label sk-toggleable__label-arrow\">estimator: LinearRegression</label><div class=\"sk-toggleable__content\"><pre>LinearRegression()</pre></div></div></div><div class=\"sk-serial\"><div class=\"sk-item\"><div class=\"sk-estimator sk-toggleable\"><input class=\"sk-toggleable__control sk-hidden--visually\" id=\"sk-estimator-id-6\" type=\"checkbox\" ><label for=\"sk-estimator-id-6\" class=\"sk-toggleable__label sk-toggleable__label-arrow\">LinearRegression</label><div class=\"sk-toggleable__content\"><pre>LinearRegression()</pre></div></div></div></div></div></div></div></div></div></div>"
      ],
      "text/plain": [
       "RFE(estimator=LinearRegression(), n_features_to_select=3)"
      ]
     },
     "execution_count": 16,
     "metadata": {},
     "output_type": "execute_result"
    }
   ],
   "source": [
    "model_rfe.fit(X,y)"
   ]
  },
  {
   "cell_type": "code",
   "execution_count": 18,
   "metadata": {},
   "outputs": [
    {
     "data": {
      "text/plain": [
       "array([3, 1, 1, 2, 1])"
      ]
     },
     "execution_count": 18,
     "metadata": {},
     "output_type": "execute_result"
    }
   ],
   "source": [
    "model_rfe.ranking_"
   ]
  },
  {
   "cell_type": "code",
   "execution_count": 19,
   "metadata": {},
   "outputs": [
    {
     "data": {
      "text/plain": [
       "array([False,  True,  True, False,  True])"
      ]
     },
     "execution_count": 19,
     "metadata": {},
     "output_type": "execute_result"
    }
   ],
   "source": [
    "model_rfe.support_"
   ]
  },
  {
   "cell_type": "code",
   "execution_count": 21,
   "metadata": {},
   "outputs": [
    {
     "data": {
      "text/plain": [
       "array([[83. ,  1.3, 14.3],\n",
       "       [91. , 33.9, 16.8],\n",
       "       [77. , 36.1, 15.5],\n",
       "       [90. , 20.8, 16.8],\n",
       "       [93. , 14.1, 17. ],\n",
       "       [90. , 45.2, 15.8],\n",
       "       [89. , 31.6, 16. ],\n",
       "       [90. , 24.9, 16.5],\n",
       "       [98. , 31.5, 17. ],\n",
       "       [58. , 15.2, 15.8],\n",
       "       [74. , 17.1, 16. ],\n",
       "       [81. , 64.9, 12.2],\n",
       "       [46. , 47.3, 11. ],\n",
       "       [39. , 22.3, 12.6],\n",
       "       [40. , 33.4, 12.6],\n",
       "       [17. , 23.6, 12.2],\n",
       "       [54. ,  2.4, 11.2],\n",
       "       [27. , 25. ,  9.3],\n",
       "       [30. , 28.3,  9.2],\n",
       "       [11. , 13.8, 10.4],\n",
       "       [18. , 19. ,  9.2],\n",
       "       [13. , 16.4,  9.5],\n",
       "       [20. , 30.4,  8.7],\n",
       "       [ 6. , 22.5,  9.8],\n",
       "       [16. , 45.4,  8.6],\n",
       "       [ 7. , 19.6,  7.9],\n",
       "       [41. ,  1.2, 10.5],\n",
       "       [35. , 16.8, 12.3],\n",
       "       [24. , 16.1,  9.7],\n",
       "       [68. , 34.8,  8.9],\n",
       "       [14. , 40. ,  8. ],\n",
       "       [83. , 23.9, 14.3],\n",
       "       [91. , 33.9, 16.8],\n",
       "       [77. , 36.1, 15.5],\n",
       "       [90. , 20.8, 16.8],\n",
       "       [93. , 14.1, 17. ],\n",
       "       [90. , 45.2, 15.8],\n",
       "       [89. , 31.6, 16. ],\n",
       "       [90. , 24.9, 16.5],\n",
       "       [98. , 31.5, 17. ],\n",
       "       [58. , 15.2, 15.8],\n",
       "       [74. , 17.1, 16. ],\n",
       "       [81. ,  2.4, 12.2],\n",
       "       [46. , 47.3, 11. ],\n",
       "       [39. , 22.3, 12.6],\n",
       "       [40. , 33.4, 12.6],\n",
       "       [17. , 23.6, 12.2],\n",
       "       [54. , 31.7, 11.2],\n",
       "       [27. , 25. ,  9.3],\n",
       "       [30. , 28.3,  9.2],\n",
       "       [11. , 13.8, 10.4],\n",
       "       [18. , 19. ,  9.2],\n",
       "       [13. , 37.8,  9.5],\n",
       "       [20. , 30.4,  8.7],\n",
       "       [ 6. , 22.5,  9.8],\n",
       "       [16. , 45.4,  8.6],\n",
       "       [ 7. , 19.6,  7.9],\n",
       "       [41. , 49.5, 10.5],\n",
       "       [35. , 16.8, 12.3],\n",
       "       [24. , 16.1,  9.7],\n",
       "       [68. , 34.8,  8.9],\n",
       "       [14. , 40. ,  8. ],\n",
       "       [83. , 23.9, 14.3],\n",
       "       [91. , 33.9, 16.8],\n",
       "       [77. , 36.1, 15.5],\n",
       "       [90. , 20.8, 16.8],\n",
       "       [93. , 14.1, 17. ],\n",
       "       [90. , 45.2, 15.8],\n",
       "       [89. , 31.6, 16. ],\n",
       "       [90. , 24.9, 16.5],\n",
       "       [98. , 31.5, 17. ],\n",
       "       [58. , 15.2, 15.8],\n",
       "       [74. , 17.1, 16. ],\n",
       "       [81. , 64.9, 12.2],\n",
       "       [46. , 47.3, 11. ],\n",
       "       [39. , 22.3, 12.6],\n",
       "       [40. , 33.4, 12.6],\n",
       "       [17. , 23.6, 12.2],\n",
       "       [54. , 31.7, 11.2],\n",
       "       [27. , 25. ,  9.3],\n",
       "       [30. , 28.3,  9.2],\n",
       "       [11. , 13.8, 10.4],\n",
       "       [18. , 19. ,  9.2],\n",
       "       [13. , 16.4,  9.5],\n",
       "       [20. , 30.4,  8.7],\n",
       "       [ 6. , 22.5,  9.8],\n",
       "       [16. , 45.4,  8.6],\n",
       "       [ 7. , 19.6,  7.9],\n",
       "       [41. , 49.5, 10.5],\n",
       "       [35. , 16.8, 12.3],\n",
       "       [24. , 16.1,  9.7],\n",
       "       [68. , 34.8,  8.9],\n",
       "       [14. , 40. ,  8. ],\n",
       "       [83. , 23.9, 14.3],\n",
       "       [91. , 33.9, 16.8],\n",
       "       [77. , 36.1, 15.5],\n",
       "       [90. , 20.8, 16.8],\n",
       "       [93. , 14.1, 17. ],\n",
       "       [90. , 45.2, 15.8],\n",
       "       [89. , 31.6, 16. ],\n",
       "       [90. , 24.9, 16.5],\n",
       "       [98. , 31.5, 17. ],\n",
       "       [58. , 15.2, 15.8],\n",
       "       [74. , 17.1, 16. ],\n",
       "       [81. , 64.9, 12.2],\n",
       "       [46. , 47.3, 11. ],\n",
       "       [39. , 22.3, 12.6],\n",
       "       [40. , 33.4, 12.6],\n",
       "       [17. , 23.6, 12.2],\n",
       "       [54. , 31.7, 11.2],\n",
       "       [27. , 25. ,  9.3],\n",
       "       [30. , 28.3,  9.2],\n",
       "       [11. , 13.8, 10.4],\n",
       "       [18. , 19. ,  9.2],\n",
       "       [13. , 16.4,  9.5],\n",
       "       [20. , 30.4,  8.7],\n",
       "       [ 6. , 22.5,  9.8],\n",
       "       [16. , 45.4,  8.6],\n",
       "       [ 7. , 19.6,  7.9],\n",
       "       [41. , 49.5, 10.5],\n",
       "       [35. , 16.8, 12.3],\n",
       "       [24. , 16.1,  9.7],\n",
       "       [68. , 34.8,  8.9],\n",
       "       [14. , 40. ,  8. ]])"
      ]
     },
     "execution_count": 21,
     "metadata": {},
     "output_type": "execute_result"
    }
   ],
   "source": [
    "model_rfe.transform(X)"
   ]
  },
  {
   "cell_type": "code",
   "execution_count": 23,
   "metadata": {},
   "outputs": [],
   "source": [
    "# defining the variables\n",
    "X_reduced = df.drop(columns=['empresa','retorno','endividamento','disclosure'])"
   ]
  },
  {
   "cell_type": "code",
   "execution_count": 27,
   "metadata": {},
   "outputs": [
    {
     "name": "stdout",
     "output_type": "stream",
     "text": [
      "                            OLS Regression Results                            \n",
      "==============================================================================\n",
      "Dep. Variable:                retorno   R-squared:                       0.823\n",
      "Model:                            OLS   Adj. R-squared:                  0.820\n",
      "Method:                 Least Squares   F-statistic:                     282.1\n",
      "Date:                Thu, 21 Nov 2024   Prob (F-statistic):           2.76e-46\n",
      "Time:                        10:08:12   Log-Likelihood:                -404.37\n",
      "No. Observations:                 124   AIC:                             814.7\n",
      "Df Residuals:                     121   BIC:                             823.2\n",
      "Df Model:                           2                                         \n",
      "Covariance Type:            nonrobust                                         \n",
      "==============================================================================\n",
      "                 coef    std err          t      P>|t|      [0.025      0.975]\n",
      "------------------------------------------------------------------------------\n",
      "const         -2.5348      2.341     -1.083      0.281      -7.169       2.100\n",
      "ativos         0.0040      0.001      7.649      0.000       0.003       0.005\n",
      "liquidez       2.7391      0.258     10.637      0.000       2.229       3.249\n",
      "==============================================================================\n",
      "Omnibus:                       23.591   Durbin-Watson:                   1.926\n",
      "Prob(Omnibus):                  0.000   Jarque-Bera (JB):                5.887\n",
      "Skew:                          -0.087   Prob(JB):                       0.0527\n",
      "Kurtosis:                       1.947   Cond. No.                     1.65e+04\n",
      "==============================================================================\n",
      "\n",
      "Notes:\n",
      "[1] Standard Errors assume that the covariance matrix of the errors is correctly specified.\n",
      "[2] The condition number is large, 1.65e+04. This might indicate that there are\n",
      "strong multicollinearity or other numerical problems.\n"
     ]
    }
   ],
   "source": [
    "# adding the constant term\n",
    "X_reduced = sm.add_constant(X_reduced)\n",
    "\n",
    "# performing the regression\n",
    "# and fitting the model\n",
    "model_reduced = sm.OLS(y, X_reduced).fit()\n",
    "\n",
    "# printing the summary table\n",
    "print(model_reduced.summary())\n",
    "\n"
   ]
  },
  {
   "cell_type": "code",
   "execution_count": 25,
   "metadata": {},
   "outputs": [],
   "source": [
    "yhat = model_reduced.predict(X_reduced)"
   ]
  },
  {
   "cell_type": "code",
   "execution_count": 26,
   "metadata": {},
   "outputs": [
    {
     "name": "stdout",
     "output_type": "stream",
     "text": [
      "23.591063856201973\n",
      "7.538163840348809e-06\n"
     ]
    },
    {
     "data": {
      "image/png": "[encoded data removed]",
      "text/plain": [
       "<Figure size 640x480 with 1 Axes>"
      ]
     },
     "metadata": {},
     "output_type": "display_data"
    }
   ],
   "source": [
    "residuals = y - yhat\n",
    "\n",
    "plt.plot(residuals,'ko')\n",
    "\n",
    "from scipy import stats\n",
    "res = stats.normaltest(residuals)\n",
    "print(res.statistic)\n",
    "print(res.pvalue)\n",
    "\n"
   ]
  },
  {
   "cell_type": "markdown",
   "metadata": {},
   "source": [
    "#### houve rejeição da hipótese nula de que os resíduos são aderentes à normalidade. Vamos usar transformação BOX-COX"
   ]
  },
  {
   "cell_type": "code",
   "execution_count": 39,
   "metadata": {},
   "outputs": [],
   "source": [
    "from scipy import stats\n",
    "\n",
    "yt, lamb = stats.boxcox(y)"
   ]
  },
  {
   "cell_type": "code",
   "execution_count": 40,
   "metadata": {},
   "outputs": [
    {
     "data": {
      "text/plain": [
       "-0.022564100754067663"
      ]
     },
     "execution_count": 40,
     "metadata": {},
     "output_type": "execute_result"
    }
   ],
   "source": [
    "lamb"
   ]
  },
  {
   "cell_type": "code",
   "execution_count": 50,
   "metadata": {},
   "outputs": [
    {
     "name": "stdout",
     "output_type": "stream",
     "text": [
      "                            OLS Regression Results                            \n",
      "==============================================================================\n",
      "Dep. Variable:                      y   R-squared:                       0.783\n",
      "Model:                            OLS   Adj. R-squared:                  0.779\n",
      "Method:                 Least Squares   F-statistic:                     218.1\n",
      "Date:                Thu, 21 Nov 2024   Prob (F-statistic):           7.46e-41\n",
      "Time:                        10:32:23   Log-Likelihood:                 69.085\n",
      "No. Observations:                 124   AIC:                            -132.2\n",
      "Df Residuals:                     121   BIC:                            -123.7\n",
      "Df Model:                           2                                         \n",
      "Covariance Type:            nonrobust                                         \n",
      "==============================================================================\n",
      "                 coef    std err          t      P>|t|      [0.025      0.975]\n",
      "------------------------------------------------------------------------------\n",
      "const          2.6635      0.051     51.794      0.000       2.562       2.765\n",
      "ativos      6.798e-05   1.16e-05      5.885      0.000    4.51e-05    9.09e-05\n",
      "liquidez       0.0573      0.006     10.134      0.000       0.046       0.069\n",
      "==============================================================================\n",
      "Omnibus:                        3.688   Durbin-Watson:                   2.049\n",
      "Prob(Omnibus):                  0.158   Jarque-Bera (JB):                3.417\n",
      "Skew:                          -0.336   Prob(JB):                        0.181\n",
      "Kurtosis:                       2.541   Cond. No.                     1.65e+04\n",
      "==============================================================================\n",
      "\n",
      "Notes:\n",
      "[1] Standard Errors assume that the covariance matrix of the errors is correctly specified.\n",
      "[2] The condition number is large, 1.65e+04. This might indicate that there are\n",
      "strong multicollinearity or other numerical problems.\n"
     ]
    }
   ],
   "source": [
    "# performing the regression\n",
    "# and fitting the model\n",
    "X_reduced = sm.add_constant(X_reduced)\n",
    "model_bc = sm.OLS(yt, X_reduced).fit()\n",
    "\n",
    "# printing the summary table\n",
    "print(model_bc.summary())"
   ]
  },
  {
   "cell_type": "code",
   "execution_count": 51,
   "metadata": {},
   "outputs": [],
   "source": [
    "yhatbc = model_bc.predict(X_reduced)"
   ]
  },
  {
   "cell_type": "code",
   "execution_count": 52,
   "metadata": {},
   "outputs": [
    {
     "name": "stdout",
     "output_type": "stream",
     "text": [
      "3.6875176158819967\n",
      "0.1582215824369982\n"
     ]
    },
    {
     "data": {
      "image/png": "[encoded data removed]",
      "text/plain": [
       "<Figure size 640x480 with 1 Axes>"
      ]
     },
     "metadata": {},
     "output_type": "display_data"
    }
   ],
   "source": [
    "residuals = yt - yhatbc\n",
    "\n",
    "plt.plot(residuals,'ko')\n",
    "\n",
    "from scipy import stats\n",
    "res = stats.normaltest(residuals)\n",
    "print(res.statistic)\n",
    "print(res.pvalue)"
   ]
  },
  {
   "cell_type": "code",
   "execution_count": 53,
   "metadata": {},
   "outputs": [
    {
     "data": {
      "text/html": [
       "<div>\n",
       "<style scoped>\n",
       "    .dataframe tbody tr th:only-of-type {\n",
       "        vertical-align: middle;\n",
       "    }\n",
       "\n",
       "    .dataframe tbody tr th {\n",
       "        vertical-align: top;\n",
       "    }\n",
       "\n",
       "    .dataframe thead th {\n",
       "        text-align: right;\n",
       "    }\n",
       "</style>\n",
       "<table border=\"1\" class=\"dataframe\">\n",
       "  <thead>\n",
       "    <tr style=\"text-align: right;\">\n",
       "      <th></th>\n",
       "      <th>empresa</th>\n",
       "      <th>retorno</th>\n",
       "      <th>disclosure</th>\n",
       "      <th>endividamento</th>\n",
       "      <th>ativos</th>\n",
       "      <th>liquidez</th>\n",
       "      <th>retorno_fitted_bc</th>\n",
       "      <th>retorno_adj</th>\n",
       "    </tr>\n",
       "  </thead>\n",
       "  <tbody>\n",
       "    <tr>\n",
       "      <th>0</th>\n",
       "      <td>Adidas</td>\n",
       "      <td>63.67</td>\n",
       "      <td>83.0</td>\n",
       "      <td>1.3</td>\n",
       "      <td>3967.0</td>\n",
       "      <td>14.3</td>\n",
       "      <td>3.965002</td>\n",
       "      <td>63.67</td>\n",
       "    </tr>\n",
       "    <tr>\n",
       "      <th>1</th>\n",
       "      <td>BASF</td>\n",
       "      <td>55.49</td>\n",
       "      <td>91.0</td>\n",
       "      <td>33.9</td>\n",
       "      <td>5450.0</td>\n",
       "      <td>16.8</td>\n",
       "      <td>3.839599</td>\n",
       "      <td>55.49</td>\n",
       "    </tr>\n",
       "    <tr>\n",
       "      <th>2</th>\n",
       "      <td>Bayer</td>\n",
       "      <td>52.42</td>\n",
       "      <td>77.0</td>\n",
       "      <td>36.1</td>\n",
       "      <td>4327.0</td>\n",
       "      <td>15.5</td>\n",
       "      <td>3.787582</td>\n",
       "      <td>52.42</td>\n",
       "    </tr>\n",
       "    <tr>\n",
       "      <th>3</th>\n",
       "      <td>BSH</td>\n",
       "      <td>54.00</td>\n",
       "      <td>90.0</td>\n",
       "      <td>20.8</td>\n",
       "      <td>4109.0</td>\n",
       "      <td>16.8</td>\n",
       "      <td>3.814731</td>\n",
       "      <td>54.00</td>\n",
       "    </tr>\n",
       "    <tr>\n",
       "      <th>4</th>\n",
       "      <td>Bosch</td>\n",
       "      <td>68.01</td>\n",
       "      <td>93.0</td>\n",
       "      <td>14.1</td>\n",
       "      <td>4458.0</td>\n",
       "      <td>17.0</td>\n",
       "      <td>4.024999</td>\n",
       "      <td>68.01</td>\n",
       "    </tr>\n",
       "    <tr>\n",
       "      <th>...</th>\n",
       "      <td>...</td>\n",
       "      <td>...</td>\n",
       "      <td>...</td>\n",
       "      <td>...</td>\n",
       "      <td>...</td>\n",
       "      <td>...</td>\n",
       "      <td>...</td>\n",
       "      <td>...</td>\n",
       "    </tr>\n",
       "    <tr>\n",
       "      <th>119</th>\n",
       "      <td>DuPont</td>\n",
       "      <td>39.85</td>\n",
       "      <td>41.0</td>\n",
       "      <td>49.5</td>\n",
       "      <td>2996.0</td>\n",
       "      <td>10.5</td>\n",
       "      <td>3.536070</td>\n",
       "      <td>39.85</td>\n",
       "    </tr>\n",
       "    <tr>\n",
       "      <th>120</th>\n",
       "      <td>ExxonMobil</td>\n",
       "      <td>44.16</td>\n",
       "      <td>35.0</td>\n",
       "      <td>16.8</td>\n",
       "      <td>3622.0</td>\n",
       "      <td>12.3</td>\n",
       "      <td>3.630464</td>\n",
       "      <td>44.16</td>\n",
       "    </tr>\n",
       "    <tr>\n",
       "      <th>121</th>\n",
       "      <td>FedEx</td>\n",
       "      <td>45.38</td>\n",
       "      <td>24.0</td>\n",
       "      <td>16.1</td>\n",
       "      <td>2972.0</td>\n",
       "      <td>9.7</td>\n",
       "      <td>3.655476</td>\n",
       "      <td>45.38</td>\n",
       "    </tr>\n",
       "    <tr>\n",
       "      <th>122</th>\n",
       "      <td>Ford Motors</td>\n",
       "      <td>45.25</td>\n",
       "      <td>68.0</td>\n",
       "      <td>34.8</td>\n",
       "      <td>4691.0</td>\n",
       "      <td>8.9</td>\n",
       "      <td>3.652844</td>\n",
       "      <td>45.25</td>\n",
       "    </tr>\n",
       "    <tr>\n",
       "      <th>123</th>\n",
       "      <td>General Electric</td>\n",
       "      <td>33.28</td>\n",
       "      <td>14.0</td>\n",
       "      <td>40.0</td>\n",
       "      <td>2303.0</td>\n",
       "      <td>8.0</td>\n",
       "      <td>3.369942</td>\n",
       "      <td>33.28</td>\n",
       "    </tr>\n",
       "  </tbody>\n",
       "</table>\n",
       "<p>124 rows × 8 columns</p>\n",
       "</div>"
      ],
      "text/plain": [
       "              empresa  retorno  disclosure  endividamento  ativos  liquidez  \\\n",
       "0              Adidas    63.67        83.0            1.3  3967.0      14.3   \n",
       "1                BASF    55.49        91.0           33.9  5450.0      16.8   \n",
       "2               Bayer    52.42        77.0           36.1  4327.0      15.5   \n",
       "3                 BSH    54.00        90.0           20.8  4109.0      16.8   \n",
       "4               Bosch    68.01        93.0           14.1  4458.0      17.0   \n",
       "..                ...      ...         ...            ...     ...       ...   \n",
       "119            DuPont    39.85        41.0           49.5  2996.0      10.5   \n",
       "120        ExxonMobil    44.16        35.0           16.8  3622.0      12.3   \n",
       "121             FedEx    45.38        24.0           16.1  2972.0       9.7   \n",
       "122       Ford Motors    45.25        68.0           34.8  4691.0       8.9   \n",
       "123  General Electric    33.28        14.0           40.0  2303.0       8.0   \n",
       "\n",
       "     retorno_fitted_bc  retorno_adj  \n",
       "0             3.965002        63.67  \n",
       "1             3.839599        55.49  \n",
       "2             3.787582        52.42  \n",
       "3             3.814731        54.00  \n",
       "4             4.024999        68.01  \n",
       "..                 ...          ...  \n",
       "119           3.536070        39.85  \n",
       "120           3.630464        44.16  \n",
       "121           3.655476        45.38  \n",
       "122           3.652844        45.25  \n",
       "123           3.369942        33.28  \n",
       "\n",
       "[124 rows x 8 columns]"
      ]
     },
     "execution_count": 53,
     "metadata": {},
     "output_type": "execute_result"
    }
   ],
   "source": [
    "df['retorno_fitted_bc'] = yt\n",
    "df"
   ]
  },
  {
   "cell_type": "code",
   "execution_count": 73,
   "metadata": {},
   "outputs": [
    {
     "data": {
      "text/plain": [
       "array([3.73801942])"
      ]
     },
     "execution_count": 73,
     "metadata": {},
     "output_type": "execute_result"
    }
   ],
   "source": [
    "import numpy as np\n",
    "X_test = np.array([1, 4000, 14.0]) #liquidez 14 e ativo 4000 - o do const deixa 1 para multiplicar por beta_0\n",
    "y_test = model_bc.predict(X_test)\n",
    "\n",
    "y_test"
   ]
  },
  {
   "cell_type": "code",
   "execution_count": 70,
   "metadata": {},
   "outputs": [
    {
     "data": {
      "text/plain": [
       "2.6635345585173567"
      ]
     },
     "execution_count": 70,
     "metadata": {},
     "output_type": "execute_result"
    }
   ],
   "source": [
    "model_bc.params[0]"
   ]
  },
  {
   "cell_type": "code",
   "execution_count": 56,
   "metadata": {},
   "outputs": [],
   "source": [
    "#Não podemos nos esquecer de fazer o cálculo para a obtenção do fitted value de Y (retorno)\n",
    "df['retorno_adj'] = (((df['retorno_fitted_bc'] * lamb) + 1.)) ** (1 / lamb)"
   ]
  },
  {
   "cell_type": "code",
   "execution_count": 72,
   "metadata": {},
   "outputs": [
    {
     "data": {
      "text/plain": [
       "49.656374536256045"
      ]
     },
     "execution_count": 72,
     "metadata": {},
     "output_type": "execute_result"
    }
   ],
   "source": [
    "y_true = (((3.73801942 * lamb) + 1.)) ** (1 / lamb)\n",
    "y_true"
   ]
  },
  {
   "cell_type": "markdown",
   "metadata": {},
   "source": [
    "#### Para saber mais: https://medium.com/@vineet.pandya/test-of-normality-box-cox-transformation-in-details-c4bdfc2c352a"
   ]
  }
 ],
 "metadata": {
  "kernelspec": {
   "display_name": "base",
   "language": "python",
   "name": "python3"
  },
  "language_info": {
   "codemirror_mode": {
    "name": "ipython",
    "version": 3
   },
   "file_extension": ".py",
   "mimetype": "text/x-python",
   "name": "python",
   "nbconvert_exporter": "python",
   "pygments_lexer": "ipython3",
   "version": "3.8.5"
  }
 },
 "nbformat": 4,
 "nbformat_minor": 2
}
