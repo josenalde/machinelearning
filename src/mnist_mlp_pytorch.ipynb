{
 "cells": [
  {
   "cell_type": "code",
   "execution_count": 1,
   "metadata": {},
   "outputs": [],
   "source": [
    "import torch # pytorch"
   ]
  },
  {
   "cell_type": "markdown",
   "metadata": {},
   "source": [
    "## O que é um TENSOR?\n",
    "### em termos gerais é uma generalização de escalares, vetores e matrizes, podendo nos casos multidimensionais possuir qualquer dimensão. Frameworks como PyTorch, TensorFlow, MindSpore etc. usam estas estruturas de dados como entradas, as manipula, e gera a saída como tensores. Manipulam apenas números e possuem funções para transformações algébricas, tal como arrays NumPy\n",
    "<img src='img\\1_rLcM-j8b61Xlfk81k_exKw.png'>"
   ]
  },
  {
   "cell_type": "markdown",
   "metadata": {},
   "source": [
    "### Tensor: em um espaço de dimensão $m$, um tensor de rank (posto) $n$ é um objeto matemático que tem $n$ índices, $m^n$ componentes, e obedece certas regras de transformação. No caso escalar tem-se $1$ componente, pois há $n=0$ vetores base por componente, logo $m=1$ (ponto sobre uma reta) e $1^0=1$ componente e rank = $0$."
   ]
  },
  {
   "cell_type": "code",
   "execution_count": 22,
   "metadata": {},
   "outputs": [
    {
     "name": "stdout",
     "output_type": "stream",
     "text": [
      "tensor(6)\n",
      "torch.Size([])\n",
      "0\n"
     ]
    }
   ],
   "source": [
    "escalar = torch.tensor(6)\n",
    "print(escalar)\n",
    "import numpy as np\n",
    "escalar_np = np.array(6)\n",
    "print(escalar_np.ndim) # Dimensão 0 (eixos = 0 ou seja, sem vetores base)"
   ]
  },
  {
   "cell_type": "markdown",
   "metadata": {},
   "source": [
    "### Suponha um sistema de coordenadas 3D com eixos x, y e z, com cada eixo com um vetor unitário (ou seja, de amplitude $1$, denominados $\\hat{i},\\hat{j},\\hat{k}$. Imagine na figura abaixo um vetor físico resultante $\\vec{v}$ com a soma $\\vec{v}=3\\hat{i}+2\\hat{j}+3\\hat{z}$. Consegue visualizar $\\vec{v}$ na figura?\n",
    "<img src='img\\axis_tensor.jpg'>.\n"
   ]
  },
  {
   "cell_type": "markdown",
   "metadata": {},
   "source": [
    "<img src='img\\Spherical-coordinate-system.png'>"
   ]
  },
  {
   "cell_type": "markdown",
   "metadata": {},
   "source": [
    "### Neste caso temos dimensão $m=3$ com $1$ vetor base por componente. $3^1=3$ componentes. Este $n=1$ define o rank=$1$, que coincide com o conceito de dimensão do array NumPy, enquanto aqui dimensão é o número de eixos para representar a grandeza"
   ]
  },
  {
   "cell_type": "code",
   "execution_count": 24,
   "metadata": {},
   "outputs": [
    {
     "name": "stdout",
     "output_type": "stream",
     "text": [
      "tensor([-1.9000, 12.0000,  0.5000])\n",
      "torch.Size([3])\n",
      "[-1.9  12.    0.45]\n",
      "1\n"
     ]
    }
   ],
   "source": [
    "vetor = torch.tensor([-1.9, 12, 0.5])\n",
    "print(vetor)\n",
    "print(vetor.size()) # size() no pytorch equivale ao shape do numpy\n",
    "vetor_np = np.array([-1.9,12,0.45])\n",
    "print(vetor_np)\n",
    "print(vetor_np.ndim)"
   ]
  },
  {
   "cell_type": "markdown",
   "metadata": {},
   "source": [
    "### Como podemos descrever as forças atuantes em um ponto no interior deste bloco? (considere que este bloco é parte de uma estrutura qualquer, metálica, concreto etc.). Seja a notação $\\sigma_{ab}$, onde $b$ é o eixo perpendicular à face em questão e $a$ é a direção da força atuante. $e_1,e_2,e_3$ são os vetores unitários perpendiculares a cada face. Considere $x=1,y=2,z=3$\n",
    "<img src='img\\Components_stress_tensor.svg.png'>"
   ]
  },
  {
   "cell_type": "markdown",
   "metadata": {},
   "source": [
    "### Temos então um Tensor $T$, que pode ser escrito matricialmente como: $T=\\left[ \\begin{array}{ccc} \\sigma_{xx} & \\sigma_{yx} & \\sigma_{zx} \\\\ \\sigma_{xy} & \\sigma_{yy} & \\sigma_{zy} \\\\ \\sigma_{xz} & \\sigma_{yz} & \\sigma_{zz} \\end{array} \\right]$, ou seja, $m=3$ com $n=2$ vetores base por componente, logo $m^n=3^2=9$ componentes e o rank do tensor T é igual a $2$. Como tem o formato matricial, justifica-se dizer que a matriz é por padrão bidimensional, como se fosse um tensor de rank 2, mas é apenas um array de números. É incorreto dizer que tensor=matriz, pois o tensor necessita da especificação mais detalhada (vetores base), possui conotação física e propriedades como invariância às mudanças de sistemas de coordenadas"
   ]
  },
  {
   "cell_type": "code",
   "execution_count": 25,
   "metadata": {},
   "outputs": [
    {
     "name": "stdout",
     "output_type": "stream",
     "text": [
      "tensor([[1, 2],\n",
      "        [3, 4]])\n",
      "torch.Size([2, 2])\n",
      "[[1 2]\n",
      " [3 4]]\n",
      "2\n"
     ]
    }
   ],
   "source": [
    "matriz = torch.tensor([[1, 2], [3, 4]])\n",
    "print(matriz)\n",
    "print(matriz.size())\n",
    "\n",
    "matriz_np = np.array([[1, 2], [3, 4]])\n",
    "print(matriz_np)\n",
    "print(matriz_np.ndim)"
   ]
  },
  {
   "cell_type": "markdown",
   "metadata": {},
   "source": [
    "### O que seria então um tensor de rank$=3$? como um empilhamento de matrizes!, com $3^3=27$ componentes e assim por diante\n",
    "### <img src='img\\rank3.png'>"
   ]
  },
  {
   "cell_type": "code",
   "execution_count": 33,
   "metadata": {},
   "outputs": [
    {
     "name": "stdout",
     "output_type": "stream",
     "text": [
      "tensor([[[1, 2],\n",
      "         [3, 4],\n",
      "         [5, 6],\n",
      "         [7, 8]]])\n",
      "torch.Size([1, 4, 2])\n",
      "3\n",
      "[[[1 2]\n",
      "  [3 4]\n",
      "  [5 6]\n",
      "  [7 8]]]\n",
      "3\n"
     ]
    }
   ],
   "source": [
    "matriz_3d = torch.tensor([[[1,2],[3,4],[5,6], [7,8]]])\n",
    "print(matriz_3d)\n",
    "print(matriz_3d.size())\n",
    "matriz_3d = np.array([[[1,2],[3,4],[5,6], [7,8]]])\n",
    "print(matriz_3d[0][1][0])\n",
    "print(matriz_3d)\n",
    "print(matriz_3d.ndim)"
   ]
  },
  {
   "cell_type": "markdown",
   "metadata": {},
   "source": [
    "### Consegue ver relação com os canais RGB e representação de imagens? Em aprendizagem de máquina tensores e suas operações, como decomposições etc. são muito importantes para lidar com dados de alta dimensão, por exemplo em redes neurais, a base do deep learning\n",
    "<img src='img\\rgb3d.png'> "
   ]
  },
  {
   "cell_type": "markdown",
   "metadata": {},
   "source": [
    "### Várias operações matemáticas são realizadas com os tensores, como aritmética, produto escalar, produto interno, produto vetorial etc."
   ]
  },
  {
   "cell_type": "code",
   "execution_count": 35,
   "metadata": {},
   "outputs": [
    {
     "name": "stdout",
     "output_type": "stream",
     "text": [
      "a+b: tensor([5, 7, 9])\n",
      "a*b: tensor([ 4, 10, 18])\n",
      "A*B:  tensor([[1, 0],\n",
      "        [9, 4]])\n",
      "Multiplicacao de A por B: tensor([[ 7,  2],\n",
      "        [15,  4]])\n",
      "k*A: tensor([[2, 4],\n",
      "        [6, 8]])\n",
      "A**B:  tensor([[ 1,  1],\n",
      "        [27,  4]])\n",
      "tensor(32)\n"
     ]
    },
    {
     "data": {
      "image/png": "[encoded data removed]",
      "text/plain": [
       "<Figure size 640x480 with 1 Axes>"
      ]
     },
     "metadata": {},
     "output_type": "display_data"
    }
   ],
   "source": [
    "a = torch.tensor([1,2,3])\n",
    "b = torch.tensor([4,5,6])\n",
    "print('a+b:',a+b)\n",
    "print('a*b:',a*b) #multiplicações ponto a ponto\n",
    "\n",
    "A = torch.tensor([[1, 2], [3, 4]])\n",
    "B = torch.tensor([[1, 0], [3, 1]])\n",
    "print('A*B: ',A*B)\n",
    "\n",
    "print('Multiplicacao de A por B:',A.matmul(B))\n",
    "\n",
    "k = 2\n",
    "print('k*A:', k*A)\n",
    "\n",
    "print('A**B: ',A**B)\n",
    "\n",
    "#produto interno entre vetores\n",
    "a = torch.tensor([1,2,3])\n",
    "b = torch.tensor([4,5,6])\n",
    "print(torch.dot(a,b))\n",
    "\n",
    "import matplotlib.pyplot as plt\n",
    " \n",
    "# criar tensor linearmente espaçado entre 1 e 12\n",
    "x = torch.linspace(1, 12, 50)\n",
    " \n",
    "# aplicar função seno\n",
    "y = torch.sin(x)\n",
    " \n",
    "# plot convertendo os tensores para arrays numpy para ser compatível com matplotlib\n",
    "plt.plot(x.numpy(), y.numpy())\n",
    " \n",
    "# display\n",
    "plt.show()"
   ]
  },
  {
   "cell_type": "markdown",
   "metadata": {},
   "source": [
    "### No contexto de machine learning, além de algebra, derivações, integrais e cálculos de gradiente são muito importantes e a base de vários algoritmos de aprendizagem/otimização"
   ]
  },
  {
   "cell_type": "code",
   "execution_count": 20,
   "metadata": {},
   "outputs": [
    {
     "name": "stdout",
     "output_type": "stream",
     "text": [
      "derivada f(x) para x=5.0 tensor(7.)\n"
     ]
    }
   ],
   "source": [
    "def f(z):\n",
    "    return z**2 - 3*x + 5\n",
    "\n",
    "x = torch.tensor(5.0, requires_grad=True) #seta opção de que x será usado em cálculos de gradiente\n",
    "y = f(x)\n",
    "\n",
    "y.backward() # calcula derivada de f em relação a x (void)\n",
    "gradiente = x.grad\n",
    "print('derivada f(x) para x=5.0', gradiente)\n"
   ]
  },
  {
   "cell_type": "code",
   "execution_count": 34,
   "metadata": {},
   "outputs": [
    {
     "name": "stdout",
     "output_type": "stream",
     "text": [
      "derivada g(x,y) para x=5.0 e y=2.0 tensor(10.) tensor(12.)\n"
     ]
    }
   ],
   "source": [
    "#derivada parcial (o gradiente para mais de uma variável é o vetor de derivadas parciais, ou seja, como uma função varia em cada direção)\n",
    "def g(x,y):\n",
    "    return x**2 + y**3\n",
    "\n",
    "x = torch.tensor(5.0, requires_grad=True) #seta opção de que x será usado em cálculos de gradiente\n",
    "y = torch.tensor(2.0, requires_grad=True) #seta opção de que y será usado em cálculos de gradiente\n",
    "\n",
    "z = g(x,y)\n",
    "z.backward() # calcula derivada de g em relação a x e a y (void)\n",
    "gradiente_x = x.grad\n",
    "gradiente_y = y.grad\n",
    "print('derivada g(x,y) para x=5.0 e y=2.0', gradiente_x, gradiente_y)\n"
   ]
  },
  {
   "cell_type": "markdown",
   "metadata": {},
   "source": [
    "### Entendido o conceito e operações básicas com tensores, vamos implementar uma rede neural Perceptron Multicamadas para classificar as imagens do MNIST, para ter uma base de como é o fluxo com o PyTorch. De maneira similar, pode-se ver o mesmo exemplo MNIST com o TensorFlow"
   ]
  },
  {
   "cell_type": "code",
   "execution_count": 2,
   "metadata": {},
   "outputs": [],
   "source": [
    "#!pip install torchvision\n",
    "import torchvision.transforms as transforms\n",
    "from torchvision.datasets import MNIST\n",
    "from torch.utils.data import DataLoader"
   ]
  },
  {
   "cell_type": "markdown",
   "metadata": {},
   "source": [
    "#### Download do MNIST com composição de transformações"
   ]
  },
  {
   "cell_type": "code",
   "execution_count": 3,
   "metadata": {},
   "outputs": [],
   "source": [
    "transform_ = transforms.Compose([transforms.ToTensor(),\n",
    "                               transforms.Normalize((0.5,), (0.5,))]) # padroniza z-score"
   ]
  },
  {
   "cell_type": "code",
   "execution_count": 4,
   "metadata": {},
   "outputs": [],
   "source": [
    "train_dataset = MNIST(root='./data', train=True, transform=transform_, download=True)"
   ]
  },
  {
   "cell_type": "code",
   "execution_count": 18,
   "metadata": {},
   "outputs": [],
   "source": [
    "train_loader = DataLoader(train_dataset, batch_size=64, shuffle=True)"
   ]
  },
  {
   "cell_type": "code",
   "execution_count": 6,
   "metadata": {},
   "outputs": [],
   "source": [
    "import matplotlib.pyplot as plt\n",
    "sample_digit = 10\n",
    "sample_image, sample_label = train_dataset[sample_digit]\n",
    "\n",
    "# não plota imagem como tensor, então é preciso retornar a numpy, despadronizando\n",
    "sample_image = sample_image*0.5 + 0.5 # x = x_p * std + mean\n",
    "sample_image = sample_image.numpy()\n",
    "#print(sample_image)\n",
    "#plt.imshow(sample_image.squeeze(), cmap='gray')\n",
    "#plt.title(f'Label: {sample_label}')\n",
    "#plt.axis('off')\n",
    "#plt.show()"
   ]
  },
  {
   "cell_type": "markdown",
   "metadata": {},
   "source": [
    "#### Vamos criar uma classe base Module, para instanciar Modelos"
   ]
  },
  {
   "cell_type": "code",
   "execution_count": 10,
   "metadata": {},
   "outputs": [],
   "source": [
    "import torch"
   ]
  },
  {
   "cell_type": "code",
   "execution_count": 16,
   "metadata": {},
   "outputs": [],
   "source": [
    "class MLP(torch.nn.Module):\n",
    "    #construtor\n",
    "    def __init__(self, input_size, hidden_sizes, output_size): #cada camada oculta com tamanho N (sizes)\n",
    "        super(MLP, self).__init__() #chamar construtor da classe mãe\n",
    "        \n",
    "        # camadas ocultas\n",
    "        self.layers = torch.nn.ModuleList() #lista de camadas\n",
    "        in_size = input_size\n",
    "        for hidden_size in hidden_sizes: #para cada tamanho de camada escondida (quantos neuronios por camada)\n",
    "            self.layers.append(torch.nn.Linear(in_size, hidden_size)) # camada linear oculta Wx+b, recebe os neuronios da camada de entrada e os neuronios da escondida atual\n",
    "            self.layers.append(torch.nn.ReLU()) #camadas de ativação\n",
    "            #atualiza camadas - troca\n",
    "            in_size = hidden_size # in_size guarda o tamanho da camada escondida atual, que será a camada de entrada na próxima iteração\n",
    "\n",
    "        #camadas de saída\n",
    "        self.output_layer = torch.nn.Linear(in_size, output_size)\n",
    "        #esta rede está configurada para fazer regressão, pois não há função de ativação na camada de saída\n",
    "        #embora possamos definir aqui, vamos deixar automático para a própria função de erro aplicar esta ativação para classificação\n",
    "        #como são 10 classes, seria uma SOFTMAX e não a SIGMOIDE\n",
    "        \n",
    "    #propagar entradas\n",
    "    def forward(self, x):\n",
    "        for layer in self.layers:\n",
    "            x = layer(x) # x é a entrada da camada atual que gera por sua vez a saída x, que será entrada da próxima camada e assim por diante...\n",
    "        \n",
    "        out = self.output_layer(x)\n",
    "        return out\n",
    "\n",
    "\n",
    "\n"
   ]
  },
  {
   "cell_type": "markdown",
   "metadata": {},
   "source": [
    "#### a rede Linear define a base das redes neurais \n",
    "$z=W_1x_1 + W_2x_2 + \\cdots + W_kx_k$"
   ]
  },
  {
   "cell_type": "markdown",
   "metadata": {},
   "source": [
    "#### Função de ativação reLU - unidade linear retificada"
   ]
  },
  {
   "cell_type": "code",
   "execution_count": 1,
   "metadata": {},
   "outputs": [
    {
     "data": {
      "image/png": "[encoded data removed]",
      "text/plain": [
       "<Figure size 800x500 with 1 Axes>"
      ]
     },
     "metadata": {},
     "output_type": "display_data"
    }
   ],
   "source": [
    "# ReLU in Python\n",
    "import matplotlib.pyplot as plt\n",
    "import numpy as np\n",
    "\n",
    "\n",
    "x = np.linspace(-5, 5, 50)\n",
    "z = [max(0, i) for i in x]\n",
    "\n",
    "\n",
    "plt.subplots(figsize=(8, 5))\n",
    "plt.plot(x, z)\n",
    "plt.grid()\n",
    "plt.show()"
   ]
  },
  {
   "cell_type": "code",
   "execution_count": null,
   "metadata": {},
   "outputs": [
    {
     "name": "stdout",
     "output_type": "stream",
     "text": [
      "MLP(\n",
      "  (layers): ModuleList(\n",
      "    (0): Linear(in_features=784, out_features=256, bias=True)\n",
      "    (1): ReLU()\n",
      "    (2): Linear(in_features=256, out_features=128, bias=True)\n",
      "    (3): ReLU()\n",
      "  )\n",
      "  (output_layer): Linear(in_features=128, out_features=10, bias=True)\n",
      ")\n"
     ]
    }
   ],
   "source": [
    "input_size = 784 # 28 x 28\n",
    "output_size = 10 # 10 classes\n",
    "#Hiperparametros\n",
    "hidden_sizes = [256, 128] #2 ocultas\n",
    "\n",
    "#Modelo\n",
    "model = MLP(input_size, hidden_sizes, output_size)\n",
    "print(model)"
   ]
  },
  {
   "cell_type": "markdown",
   "metadata": {},
   "source": [
    "<img src='img\\three_layer_neural_network_e50fa950bc.png'>"
   ]
  },
  {
   "cell_type": "code",
   "execution_count": 19,
   "metadata": {},
   "outputs": [
    {
     "name": "stdout",
     "output_type": "stream",
     "text": [
      "1/10, Loss: 0.34099251830152105\n",
      "2/10, Loss: 0.1562988066853189\n",
      "3/10, Loss: 0.11357907661949711\n",
      "4/10, Loss: 0.09143496667499593\n",
      "5/10, Loss: 0.07722001019909953\n",
      "6/10, Loss: 0.06907576495316872\n",
      "7/10, Loss: 0.05966669993873722\n",
      "8/10, Loss: 0.0515244600259692\n",
      "9/10, Loss: 0.04932654739985776\n",
      "10/10, Loss: 0.041524353965291944\n"
     ]
    }
   ],
   "source": [
    "#Função de erro e otimizador\n",
    "loss_function = torch.nn.CrossEntropyLoss()\n",
    "\n",
    "#Otimizador\n",
    "optimizer = torch.optim.Adam(model.parameters(), lr=0.001) #learning rate\n",
    "\n",
    "#Loop de treinamento\n",
    "num_epochs = 10\n",
    "losses = []\n",
    "\n",
    "for epoch in range(num_epochs):\n",
    "    total_loss = 0.0\n",
    "    #loop de mini batches (batch de índice t (X^t, y^t))\n",
    "    for x_t, y_t in train_loader:\n",
    "        #zerar gradientes\n",
    "        optimizer.zero_grad()\n",
    "        #propagação das entradas\n",
    "        x_t_flat = x_t.view(x_t.size(0),-1)\n",
    "        yhat_t = model(x_t_flat)\n",
    "        #erro\n",
    "        loss = loss_function(yhat_t, y_t)\n",
    "        #retropropagação (calcula os gradientes)\n",
    "        loss.backward()\n",
    "        # atualiza os pesos (ADAM, SGD etc.)\n",
    "        optimizer.step() \n",
    "         #acumular erro dos mini batches\n",
    "        total_loss += loss.item()\n",
    "    # media dos erros dos mini batches para a época atual de treinamento\n",
    "    average_loss = total_loss / len(train_loader)\n",
    "    losses.append(average_loss)\n",
    "    print(f'{epoch+1}/{num_epochs}, Loss: {average_loss}')\n"
   ]
  },
  {
   "cell_type": "code",
   "execution_count": null,
   "metadata": {},
   "outputs": [],
   "source": []
  }
 ],
 "metadata": {
  "kernelspec": {
   "display_name": "base",
   "language": "python",
   "name": "python3"
  },
  "language_info": {
   "codemirror_mode": {
    "name": "ipython",
    "version": 3
   },
   "file_extension": ".py",
   "mimetype": "text/x-python",
   "name": "python",
   "nbconvert_exporter": "python",
   "pygments_lexer": "ipython3",
   "version": "3.8.5"
  }
 },
 "nbformat": 4,
 "nbformat_minor": 2
}
