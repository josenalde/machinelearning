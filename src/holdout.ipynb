{
 "cells": [
  {
   "cell_type": "code",
   "execution_count": 5,
   "metadata": {},
   "outputs": [
    {
     "name": "stdout",
     "output_type": "stream",
     "text": [
      "Acurácias : [0.9259259259259259, 0.9259259259259259, 0.8888888888888888, 0.9259259259259259, 0.9259259259259259]\n"
     ]
    }
   ],
   "source": [
    "from sklearn.model_selection import train_test_split\n",
    "from sklearn.neighbors import KNeighborsClassifier\n",
    "from sklearn.datasets import load_iris\n",
    "from sklearn.metrics import accuracy_score\n",
    "\n",
    "# Carregar o conjunto de dados\n",
    "data = load_iris()\n",
    "X, y = data.data, data.target\n",
    "# Dividir o conjunto de dados em treinamento (70%) e teste (30%)\n",
    "X_train, X_test, y_train, y_test = train_test_split(X, y, test_size=0.3, random_state=10)\n",
    "X_train_limited, X_validation, y_train_limited, y_validation = train_test_split(X_train, y_train, random_state=10)\n",
    "# Definir os modelos\n",
    "model_k_3 = KNeighborsClassifier(n_neighbors=3)\n",
    "model_k_4 = KNeighborsClassifier(n_neighbors=4)\n",
    "model_k_5 = KNeighborsClassifier(n_neighbors=5)\n",
    "model_k_6 = KNeighborsClassifier(n_neighbors=6)\n",
    "model_k_7 = KNeighborsClassifier(n_neighbors=7)\n",
    "\n",
    "# Treinar os modelos no conjunto de treinamento limitado\n",
    "model_k_3.fit(X_train_limited, y_train_limited)\n",
    "model_k_4.fit(X_train_limited, y_train_limited)\n",
    "model_k_5.fit(X_train_limited, y_train_limited)\n",
    "model_k_6.fit(X_train_limited, y_train_limited)\n",
    "model_k_7.fit(X_train_limited, y_train_limited)\n",
    "\n",
    "# Prever no conjunto de validação\n",
    "y_pred_model_k_3 = model_k_3.predict(X_validation)\n",
    "y_pred_model_k_4 = model_k_4.predict(X_validation)\n",
    "y_pred_model_k_5 = model_k_5.predict(X_validation)\n",
    "y_pred_model_k_6 = model_k_6.predict(X_validation)\n",
    "y_pred_model_k_7 = model_k_7.predict(X_validation)\n",
    "# Avaliar a acurácia\n",
    "accuracies = []\n",
    "accuracies.append(accuracy_score(y_validation, y_pred_model_k_3))\n",
    "accuracies.append(accuracy_score(y_validation, y_pred_model_k_4))\n",
    "accuracies.append(accuracy_score(y_validation, y_pred_model_k_5))\n",
    "accuracies.append(accuracy_score(y_validation, y_pred_model_k_6))\n",
    "accuracies.append(accuracy_score(y_validation, y_pred_model_k_7))\n",
    "\n",
    "print(f'Acurácias : {accuracies}')\n",
    "\n",
    "\n"
   ]
  }
 ],
 "metadata": {
  "kernelspec": {
   "display_name": "base",
   "language": "python",
   "name": "python3"
  },
  "language_info": {
   "codemirror_mode": {
    "name": "ipython",
    "version": 3
   },
   "file_extension": ".py",
   "mimetype": "text/x-python",
   "name": "python",
   "nbconvert_exporter": "python",
   "pygments_lexer": "ipython3",
   "version": "3.8.5"
  }
 },
 "nbformat": 4,
 "nbformat_minor": 2
}
